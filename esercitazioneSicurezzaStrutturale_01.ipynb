{
 "cells": [
  {
   "cell_type": "markdown",
   "metadata": {},
   "source": [
    "# Esercitazione Sicurezza Strutturale\n",
    "## *Matteo Franzoi* - Academic Year 2019/2020\n",
    "### matricola 166788 (triennale)\n",
    "---"
   ]
  },
  {
   "cell_type": "code",
   "execution_count": 1,
   "metadata": {},
   "outputs": [],
   "source": [
    "from anastruct import *\n",
    "import matplotlib.pyplot as plt\n",
    "%matplotlib inline\n",
    "import numpy as np"
   ]
  },
  {
   "cell_type": "code",
   "execution_count": 2,
   "metadata": {},
   "outputs": [],
   "source": [
    "ss = SystemElements()"
   ]
  },
  {
   "cell_type": "markdown",
   "metadata": {},
   "source": [
    "Ai fini dell’esercitazione, si considerino come dati di input le seguenti caratteristiche geometriche:\n",
    "* tutti i pilastri hanno sezione 30x30 cm;\n",
    "* tutti i setti hanno spessore 30 cm;\n",
    "* le travi in spessore di solaio hanno larghezza di 60 cm;\n",
    "* le travi perimetrali hanno sezione 50x30 cm (50 cm di altezza)."
   ]
  },
  {
   "cell_type": "markdown",
   "metadata": {},
   "source": [
    "La trave di interesse è situata al **piano primo** e va dal pilastro **P13** fino al **P18**.\n",
    "\n",
    "I pilastri da verificare sono il ***P27*** e il ___P36___."
   ]
  },
  {
   "cell_type": "markdown",
   "metadata": {},
   "source": [
    "L'edificio si trova in provincia di Trento a $788\\,m$ sul livello del mare ed è adibito a negozi al piano terra, _uffici aperti al pubblico al piano primo_ e civile abitazione nei piani successivi. L'interrato è adibito a garage."
   ]
  },
  {
   "cell_type": "code",
   "execution_count": 1,
   "metadata": {},
   "outputs": [
    {
     "data": {
      "text/html": [
       "\n",
       "        <iframe\n",
       "            width=\"900\"\n",
       "            height=\"900\"\n",
       "            src=\"./pianoPrimo_esercitazione.pdf\"\n",
       "            frameborder=\"0\"\n",
       "            allowfullscreen\n",
       "        ></iframe>\n",
       "        "
      ],
      "text/plain": [
       "<IPython.lib.display.IFrame at 0x7f77f15a74d0>"
      ]
     },
     "execution_count": 1,
     "metadata": {},
     "output_type": "execute_result"
    }
   ],
   "source": [
    "from IPython.display import IFrame\n",
    "IFrame(\"./pianoPrimo_esercitazione.pdf\", width=900, height=900)"
   ]
  },
  {
   "cell_type": "markdown",
   "metadata": {},
   "source": [
    "Il solaio è realizzato a travetti tralicciati in laterocemento con spessore di 20+5 cm. Il peso del solaio utlimato è\n",
    "$$\n",
    "g_{1,k}^{solaio} = 3.20\\,kN/_{m^2}\n",
    "$$\n",
    "Il solaio è finito all'estradosso con un _sottofondo di cls alleggerito_ di $8\\,cm$ e peso specifico $\\gamma_{cls,all} = 16\\,kN/_{m^3}$, un massetto di allettamento di $6\\,cm$ con $\\gamma_{massetto} = 24\\,kN/_{m^3}$ e un pavimento in ceramica dal peso di $g_{2,k}^{pav} = 0.50\\,kN/_{m^2}$.  \n",
    "All'intradosso è finito con intonaco ($\\gamma_{intonaco} = 20\\,kN/_{m^3}$) dello spessore di $1\\,cm$.\n",
    "\n",
    "Il solaio delle terrazze è finito all'estradosso con uno strato di $15\\,cm$ di isolante ($\\gamma_{isolante} = 0.5\\,kN/_{m^3}$), uno strato di impermeabilizzazione di _peso trascurabile_, un massetto in cls di spessore medio pari a $6\\,cm$ e $\\gamma_{massetto} = 24\\,kN/_{m^3}$ e un pavimento di peso $g_{2,k}^{pav, terr} = 0.50\\,kN/_{m^2}$. \n",
    "All'intradosso con $1\\,cm$ di intonaco.\n",
    "\n",
    "Le pareti divisorie interne sono realizzate con tramezze in laterizio di spessore $8\\,cm$ ($\\gamma_{tramezze} = 8.00\\,kN/_{m^3}$) e finite con $1\\,cm$ di intonaco _per lato_.\n",
    "\n",
    "I tamponamenti perimetrali sono in muratura di laterizio di spessore $30\\,cm$ ($\\gamma_{tamp} = 10.00\\,kN/_{m^3}$) con cappotto esterno di $12\\,cm$ ($\\gamma_{cappotto} = 0.20\\,kN/_{m^3}$) e $1\\,cm$ di intonaco interno.\n"
   ]
  },
  {
   "cell_type": "code",
   "execution_count": 21,
   "metadata": {},
   "outputs": [
    {
     "data": {
      "image/png": "[encoded data removed]",
      "text/plain": [
       "<Figure size 864x576 with 1 Axes>"
      ]
     },
     "metadata": {
      "needs_background": "light"
     },
     "output_type": "display_data"
    }
   ],
   "source": [
    "ss = SystemElements();\n",
    "ss.add_element_grid(\n",
    "[0, 3, 7.5, 11.5, 16.5, 22.15, 26.15], [0,0,0,0,0,0,0]\n",
    ")\n",
    "ss.add_support_hinged(node_id=[1,2,3,4,5,6])\n",
    "ss.add_support_fixed(node_id=7)\n",
    "ss.q_load(q=-1, element_id=[1,2,3,4,5,6], direction='element')\n",
    "fig = ss.show_structure(show=False)\n",
    "plt.title('Beam Static Scheme (P13 - P18)')\n",
    "plt.show()"
   ]
  }
 ],
 "metadata": {
  "kernelspec": {
   "display_name": "Python 3",
   "language": "python",
   "name": "python3"
  },
  "language_info": {
   "codemirror_mode": {
    "name": "ipython",
    "version": 3
   },
   "file_extension": ".py",
   "mimetype": "text/x-python",
   "name": "python",
   "nbconvert_exporter": "python",
   "pygments_lexer": "ipython3",
   "version": "3.7.5rc1"
  }
 },
 "nbformat": 4,
 "nbformat_minor": 4
}
