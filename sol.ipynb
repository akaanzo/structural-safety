{
 "cells": [
  {
   "cell_type": "markdown",
   "metadata": {
    "slideshow": {
     "slide_type": "slide"
    }
   },
   "source": [
    "# Static Solution - Loads Combos\n",
    "## *Matteo Franzoi* - Anno Accademico 2019/2020\n",
    "### matricola 166788 (triennale)\n",
    "---"
   ]
  },
  {
   "cell_type": "code",
   "execution_count": 1,
   "metadata": {
    "slideshow": {
     "slide_type": "skip"
    }
   },
   "outputs": [],
   "source": [
    "import math\n",
    "#import pandas as pd\n",
    "import matplotlib.pyplot as plt\n",
    "%matplotlib inline\n",
    "from sympy import *\n",
    "from sympy import MatrixSymbol, Matrix\n",
    "import numpy as np\n",
    "from engineering_notation import EngNumber\n",
    "from decimal import Decimal"
   ]
  },
  {
   "cell_type": "code",
   "execution_count": null,
   "metadata": {
    "slideshow": {
     "slide_type": "slide"
    }
   },
   "outputs": [],
   "source": [
    "q1 = Symbol('q1', positive=True);\n",
    "q2 = Symbol('q2', positive=True);\n",
    "q3 = Symbol('q3', positive=True);\n",
    "q4 = Symbol('q4', positive=True);\n",
    "q5 = Symbol('q5', positive=True);\n",
    "q6 = Symbol('q6', positive=True);\n",
    "#---------------------------------\n",
    "ej = Symbol('ej', positive=True);\n",
    "#---------------------------------\n",
    "l1 = Symbol('l1', positive=True);\n",
    "l2 = Symbol('l2', positive=True);\n",
    "l3 = Symbol('l3', positive=True);\n",
    "l4 = Symbol('l4', positive=True);\n",
    "l5 = Symbol('l5', positive=True);\n",
    "l6 = Symbol('l6', positive=True);\n",
    "#---------------------------------\n",
    "m2 = Symbol('m2');\n",
    "m3 = Symbol('m3');\n",
    "m4 = Symbol('m4');\n",
    "m5 = Symbol('m5');\n",
    "m6 = Symbol('m6');\n",
    "m7 = Symbol('m7');"
   ]
  },
  {
   "cell_type": "code",
   "execution_count": null,
   "metadata": {
    "slideshow": {
     "slide_type": "slide"
    }
   },
   "outputs": [],
   "source": [
    "F = 1/(6*ej) * Matrix([\n",
    "    [2*(l1 + l2), l2, 0, 0, 0, 0],\n",
    "    [l2, 2*(l2+l3), l3, 0, 0, 0],\n",
    "    [0, l3, 2*(l3+l4), l4, 0, 0],\n",
    "    [0, 0, l4, 2*(l4+l5), l5, 0],\n",
    "    [0, 0, 0, l5, 2*(l5+l6), l6],\n",
    "    [0, 0, 0, 0, l6, 2*l6]\n",
    "])"
   ]
  },
  {
   "cell_type": "code",
   "execution_count": null,
   "metadata": {
    "slideshow": {
     "slide_type": "subslide"
    }
   },
   "outputs": [],
   "source": [
    "Matrix(F)"
   ]
  },
  {
   "cell_type": "code",
   "execution_count": null,
   "metadata": {
    "slideshow": {
     "slide_type": "slide"
    }
   },
   "outputs": [],
   "source": [
    "X = Matrix([m2, m3, m4, m5, m6, m7])\n",
    "Matrix(X)"
   ]
  },
  {
   "cell_type": "code",
   "execution_count": null,
   "metadata": {
    "slideshow": {
     "slide_type": "slide"
    }
   },
   "outputs": [],
   "source": [
    "P = -1/(24*ej) * Matrix([\n",
    "    q1*l1**3 + q2*l2**3,\n",
    "    q2*l2**3 + q3*l3**3,\n",
    "    q3*l3**3 + q4*l4**3, \n",
    "    q4*l4**3 + q5*l5**3, \n",
    "    q5*l5**3 + q6*l6**3, \n",
    "    q6*l6**3             \n",
    "])\n",
    "Matrix(P)"
   ]
  },
  {
   "cell_type": "code",
   "execution_count": null,
   "metadata": {
    "slideshow": {
     "slide_type": "skip"
    }
   },
   "outputs": [],
   "source": [
    "x = solve(F*X-P, X)\n",
    "x;"
   ]
  },
  {
   "cell_type": "code",
   "execution_count": null,
   "metadata": {
    "slideshow": {
     "slide_type": "skip"
    }
   },
   "outputs": [],
   "source": [
    "XX = Matrix([\n",
    "    (l2*l3*l4*l5*l6**3*q6 - 2*l2*l3*l4*l5*(l5**3*q5 + l6**3*q6) + l2*l3*l4*(4*l5 + 3*l6)*(l4**3*q4 + l5**3*q5) + 2*l2*l3*(l3**3*q3 + l4**3*q4)*(l5**2 + l6*(l4 + l5) - 4*(l4 + l5)*(l5 + l6)) - l2*(l2**3*q2 + l3**3*q3)*(-l4**2*l6 + 4*l4**2*(l5 + l6) + 4*l5**2*(l3 + l4) + 4*l6*(l3 + l4)*(l4 + l5) - 16*(l3 + l4)*(l4 + l5)*(l5 + l6)) - 2*(l1**3*q1 + l2**3*q2)*(l3**2*l5**2 + l3**2*l6*(l4 + l5) - 4*l3**2*(l4 + l5)*(l5 + l6) + l4**2*l6*(l2 + l3) - 4*l4**2*(l2 + l3)*(l5 + l6) - 4*l5**2*(l2 + l3)*(l3 + l4) - 4*l6*(l2 + l3)*(l3 + l4)*(l4 + l5) + 16*(l2 + l3)*(l3 + l4)*(l4 + l5)*(l5 + l6)))/(4*(-l2**2*l4**2*l6 + 4*l2**2*l4**2*(l5 + l6) + 4*l2**2*l5**2*(l3 + l4) + 4*l2**2*l6*(l3 + l4)*(l4 + l5) - 16*l2**2*(l3 + l4)*(l4 + l5)*(l5 + l6) + 4*l3**2*l5**2*(l1 + l2) + 4*l3**2*l6*(l1 + l2)*(l4 + l5) - 16*l3**2*(l1 + l2)*(l4 + l5)*(l5 + l6) + 4*l4**2*l6*(l1 + l2)*(l2 + l3) - 16*l4**2*(l1 + l2)*(l2 + l3)*(l5 + l6) - 16*l5**2*(l1 + l2)*(l2 + l3)*(l3 + l4) - 16*l6*(l1 + l2)*(l2 + l3)*(l3 + l4)*(l4 + l5) + 64*(l1 + l2)*(l2 + l3)*(l3 + l4)*(l4 + l5)*(l5 + l6))),\n",
    "    (-l2*(l1**3*q1 + l2**3*q2)*(-l4**2*l6 + 4*l4**2*(l5 + l6) + 4*l5**2*(l3 + l4) + 4*l6*(l3 + l4)*(l4 + l5) - 16*(l3 + l4)*(l4 + l5)*(l5 + l6)) - 2*l3*l4*l5*l6**3*q6*(l1 + l2) + 4*l3*l4*l5*(l1 + l2)*(l5**3*q5 + l6**3*q6) - 2*l3*l4*(l1 + l2)*(4*l5 + 3*l6)*(l4**3*q4 + l5**3*q5) - 4*l3*(l1 + l2)*(l3**3*q3 + l4**3*q4)*(l5**2 + l6*(l4 + l5) - 4*(l4 + l5)*(l5 + l6)) + 2*(l1 + l2)*(l2**3*q2 + l3**3*q3)*(-l4**2*l6 + 4*l4**2*(l5 + l6) + 4*l5**2*(l3 + l4) + 4*l6*(l3 + l4)*(l4 + l5) - 16*(l3 + l4)*(l4 + l5)*(l5 + l6)))/(4*(-l2**2*l4**2*l6 + 4*l2**2*l4**2*(l5 + l6) + 4*l2**2*l5**2*(l3 + l4) + 4*l2**2*l6*(l3 + l4)*(l4 + l5) - 16*l2**2*(l3 + l4)*(l4 + l5)*(l5 + l6) + 4*l3**2*l5**2*(l1 + l2) + 4*l3**2*l6*(l1 + l2)*(l4 + l5) - 16*l3**2*(l1 + l2)*(l4 + l5)*(l5 + l6) + 4*l4**2*l6*(l1 + l2)*(l2 + l3) - 16*l4**2*(l1 + l2)*(l2 + l3)*(l5 + l6) - 16*l5**2*(l1 + l2)*(l2 + l3)*(l3 + l4) - 16*l6*(l1 + l2)*(l2 + l3)*(l3 + l4)*(l4 + l5) + 64*(l1 + l2)*(l2 + l3)*(l3 + l4)*(l4 + l5)*(l5 + l6))),\n",
    "    (2*l2*l3*(l1**3*q1 + l2**3*q2)*(l5**2 + l6*(l4 + l5) - 4*(l4 + l5)*(l5 + l6)) - 4*l3*(l1 + l2)*(l2**3*q2 + l3**3*q3)*(l5**2 + l6*(l4 + l5) - 4*(l4 + l5)*(l5 + l6)) - l4*l5*l6**3*q6*(l2**2 - 4*(l1 + l2)*(l2 + l3)) + 2*l4*l5*(l2**2 - 4*(l1 + l2)*(l2 + l3))*(l5**3*q5 + l6**3*q6) + l4*(l4**3*q4 + l5**3*q5)*(l2**2*l6 - 4*l2**2*(l5 + l6) - 4*l6*(l1 + l2)*(l2 + l3) + 16*(l1 + l2)*(l2 + l3)*(l5 + l6)) - 2*(l3**3*q3 + l4**3*q4)*(l2**2*l5**2 + l2**2*l6*(l4 + l5) - 4*l2**2*(l4 + l5)*(l5 + l6) - 4*l5**2*(l1 + l2)*(l2 + l3) - 4*l6*(l1 + l2)*(l2 + l3)*(l4 + l5) + 16*(l1 + l2)*(l2 + l3)*(l4 + l5)*(l5 + l6)))/(4*(-l2**2*l4**2*l6 + 4*l2**2*l4**2*(l5 + l6) + 4*l2**2*l5**2*(l3 + l4) + 4*l2**2*l6*(l3 + l4)*(l4 + l5) - 16*l2**2*(l3 + l4)*(l4 + l5)*(l5 + l6) + 4*l3**2*l5**2*(l1 + l2) + 4*l3**2*l6*(l1 + l2)*(l4 + l5) - 16*l3**2*(l1 + l2)*(l4 + l5)*(l5 + l6) + 4*l4**2*l6*(l1 + l2)*(l2 + l3) - 16*l4**2*(l1 + l2)*(l2 + l3)*(l5 + l6) - 16*l5**2*(l1 + l2)*(l2 + l3)*(l3 + l4) - 16*l6*(l1 + l2)*(l2 + l3)*(l3 + l4)*(l4 + l5) + 64*(l1 + l2)*(l2 + l3)*(l3 + l4)*(l4 + l5)*(l5 + l6))),\n",
    "    (l2*l3*l4*(4*l5 + 3*l6)*(l1**3*q1 + l2**3*q2) - 2*l3*l4*(l1 + l2)*(4*l5 + 3*l6)*(l2**3*q2 + l3**3*q3) + l4*(l3**3*q3 + l4**3*q4)*(l2**2*l6 - 4*l2**2*(l5 + l6) - 4*l6*(l1 + l2)*(l2 + l3) + 16*(l1 + l2)*(l2 + l3)*(l5 + l6)) + 2*l5*l6**3*q6*(l2**2*(l3 + l4) + l3**2*(l1 + l2) - 4*(l1 + l2)*(l2 + l3)*(l3 + l4)) - 4*l5*(l5**3*q5 + l6**3*q6)*(l2**2*(l3 + l4) + l3**2*(l1 + l2) - 4*(l1 + l2)*(l2 + l3)*(l3 + l4)) - 2*(l4**3*q4 + l5**3*q5)*(l2**2*l6*(l3 + l4) - 4*l2**2*(l3 + l4)*(l5 + l6) + l3**2*l6*(l1 + l2) - 4*l3**2*(l1 + l2)*(l5 + l6) - 4*l6*(l1 + l2)*(l2 + l3)*(l3 + l4) + 16*(l1 + l2)*(l2 + l3)*(l3 + l4)*(l5 + l6)))/(4*(-l2**2*l4**2*l6 + 4*l2**2*l4**2*(l5 + l6) + 4*l2**2*l5**2*(l3 + l4) + 4*l2**2*l6*(l3 + l4)*(l4 + l5) - 16*l2**2*(l3 + l4)*(l4 + l5)*(l5 + l6) + 4*l3**2*l5**2*(l1 + l2) + 4*l3**2*l6*(l1 + l2)*(l4 + l5) - 16*l3**2*(l1 + l2)*(l4 + l5)*(l5 + l6) + 4*l4**2*l6*(l1 + l2)*(l2 + l3) - 16*l4**2*(l1 + l2)*(l2 + l3)*(l5 + l6) - 16*l5**2*(l1 + l2)*(l2 + l3)*(l3 + l4) - 16*l6*(l1 + l2)*(l2 + l3)*(l3 + l4)*(l4 + l5) + 64*(l1 + l2)*(l2 + l3)*(l3 + l4)*(l4 + l5)*(l5 + l6))),\n",
    "    (-l2*l3*l4*l5*(l1**3*q1 + l2**3*q2)/2 + l3*l4*l5*(l1 + l2)*(l2**3*q2 + l3**3*q3) + l4*l5*(l2**2 - 4*(l1 + l2)*(l2 + l3))*(l3**3*q3 + l4**3*q4)/2 - l5*(l4**3*q4 + l5**3*q5)*(l2**2*(l3 + l4) + l3**2*(l1 + l2) - 4*(l1 + l2)*(l2 + l3)*(l3 + l4)) - l6**3*q6*(-l2**2*l4**2 + 4*l2**2*(l3 + l4)*(l4 + l5) + 4*l3**2*(l1 + l2)*(l4 + l5) + 4*l4**2*(l1 + l2)*(l2 + l3) - 16*(l1 + l2)*(l2 + l3)*(l3 + l4)*(l4 + l5))/4 + (l5**3*q5 + l6**3*q6)*(-l2**2*l4**2 + 4*l2**2*(l3 + l4)*(l4 + l5) + 4*l3**2*(l1 + l2)*(l4 + l5) + 4*l4**2*(l1 + l2)*(l2 + l3) - 16*(l1 + l2)*(l2 + l3)*(l3 + l4)*(l4 + l5))/2)/(-l2**2*l4**2*l6 + 4*l2**2*l4**2*(l5 + l6) + 4*l2**2*l5**2*(l3 + l4) + 4*l2**2*l6*(l3 + l4)*(l4 + l5) - 16*l2**2*(l3 + l4)*(l4 + l5)*(l5 + l6) + 4*l3**2*l5**2*(l1 + l2) + 4*l3**2*l6*(l1 + l2)*(l4 + l5) - 16*l3**2*(l1 + l2)*(l4 + l5)*(l5 + l6) + 4*l4**2*l6*(l1 + l2)*(l2 + l3) - 16*l4**2*(l1 + l2)*(l2 + l3)*(l5 + l6) - 16*l5**2*(l1 + l2)*(l2 + l3)*(l3 + l4) - 16*l6*(l1 + l2)*(l2 + l3)*(l3 + l4)*(l4 + l5) + 64*(l1 + l2)*(l2 + l3)*(l3 + l4)*(l4 + l5)*(l5 + l6)),\n",
    "    (l2*l3*l4*l5*(l1**3*q1 + l2**3*q2) - 2*l3*l4*l5*(l1 + l2)*(l2**3*q2 + l3**3*q3) - l4*l5*(l2**2 - 4*(l1 + l2)*(l2 + l3))*(l3**3*q3 + l4**3*q4) + 2*l5*(l4**3*q4 + l5**3*q5)*(l2**2*(l3 + l4) + l3**2*(l1 + l2) - 4*(l1 + l2)*(l2 + l3)*(l3 + l4)) - 2*l6**2*q6*(l2**2*l4**2*(l5 + l6) + l2**2*l5**2*(l3 + l4) - 4*l2**2*(l3 + l4)*(l4 + l5)*(l5 + l6) + l3**2*l5**2*(l1 + l2) - 4*l3**2*(l1 + l2)*(l4 + l5)*(l5 + l6) - 4*l4**2*(l1 + l2)*(l2 + l3)*(l5 + l6) - 4*l5**2*(l1 + l2)*(l2 + l3)*(l3 + l4) + 16*(l1 + l2)*(l2 + l3)*(l3 + l4)*(l4 + l5)*(l5 + l6)) - (l5**3*q5 + l6**3*q6)*(-l2**2*l4**2 + 4*l2**2*(l3 + l4)*(l4 + l5) + 4*l3**2*(l1 + l2)*(l4 + l5) + 4*l4**2*(l1 + l2)*(l2 + l3) - 16*(l1 + l2)*(l2 + l3)*(l3 + l4)*(l4 + l5)))/(4*(-l2**2*l4**2*l6 + 4*l2**2*l4**2*(l5 + l6) + 4*l2**2*l5**2*(l3 + l4) + 4*l2**2*l6*(l3 + l4)*(l4 + l5) - 16*l2**2*(l3 + l4)*(l4 + l5)*(l5 + l6) + 4*l3**2*l5**2*(l1 + l2) + 4*l3**2*l6*(l1 + l2)*(l4 + l5) - 16*l3**2*(l1 + l2)*(l4 + l5)*(l5 + l6) + 4*l4**2*l6*(l1 + l2)*(l2 + l3) - 16*l4**2*(l1 + l2)*(l2 + l3)*(l5 + l6) - 16*l5**2*(l1 + l2)*(l2 + l3)*(l3 + l4) - 16*l6*(l1 + l2)*(l2 + l3)*(l3 + l4)*(l4 + l5) + 64*(l1 + l2)*(l2 + l3)*(l3 + l4)*(l4 + l5)*(l5 + l6)))\n",
    "])   \n",
    "XX;"
   ]
  },
  {
   "cell_type": "code",
   "execution_count": null,
   "metadata": {
    "slideshow": {
     "slide_type": "slide"
    }
   },
   "outputs": [],
   "source": [
    "q = Symbol('q')\n",
    "l = Symbol('l')\n",
    "XX.subs({q1:q, q2:q, q3:q, q4:q, q5:q, q6:q, l1:l, l2:l, l3:l, l4:l, l5:l, l6:l})\n"
   ]
  },
  {
   "cell_type": "code",
   "execution_count": null,
   "metadata": {
    "slideshow": {
     "slide_type": "slide"
    }
   },
   "outputs": [],
   "source": [
    "def rij_q(mij, mi_j, li):\n",
    "       return (mi_j - mij)/li + 1* li/2\n",
    "    \n",
    "def rij(mij, mi_j, li):\n",
    "    return (mi_j-mij)/li \n",
    "    \n",
    "def r31(m31, m41, l3):\n",
    "    (m41 - m31)/l3\n",
    "    \n",
    "def r41(m41, m51, l4):\n",
    "    (m51-m41)/l4 \n",
    "    \n",
    "def r51(m51, m61, l5):\n",
    "    (m61-m51)/l5\n",
    "    \n",
    "def r61(m61, m71, l6):\n",
    "    (m71-m61)/l6\n",
    "    \n",
    "#------------------------------------------\n"
   ]
  },
  {
   "cell_type": "code",
   "execution_count": null,
   "metadata": {
    "jupyter": {
     "source_hidden": true
    },
    "slideshow": {
     "slide_type": "subslide"
    }
   },
   "outputs": [],
   "source": [
    "def EJ(b,h):\n",
    "    \"\"\"Concrete Rectangular Section:\n",
    "    J = b * h^3 / 12 [mm^4]\n",
    "    E = 30 GPa\n",
    "    Result in N*mm^2\"\"\"\n",
    "    return 30*10**3 * b * h**3 /12\n",
    "    \n",
    "EJ = EJ(30, 50)\n",
    "print('EJ = ',EJ, 'N mm^2 = ', Decimal(EJ).normalize().to_eng_string(),'N mm^2')"
   ]
  },
  {
   "cell_type": "code",
   "execution_count": null,
   "metadata": {
    "slideshow": {
     "slide_type": "slide"
    }
   },
   "outputs": [],
   "source": [
    "F1 = F.evalf(subs={l1:3, l2:4.5, l3:4.000, l4:5.000, l5:6.15, l6:4, ej:9375})\n",
    "Fn = F1;\n",
    "F1"
   ]
  },
  {
   "cell_type": "code",
   "execution_count": null,
   "metadata": {
    "slideshow": {
     "slide_type": "subslide"
    }
   },
   "outputs": [],
   "source": [
    "P1 = P.subs(list(zip([l1, l2, l3, l4, l5, l6, ej, q1, q2, q3, q4, q5, q6], [3, 4.5, 4, 5, 6.15, 4, 9375, 1, 0, 0, 0, 0, 0])))\n",
    "P1"
   ]
  },
  {
   "cell_type": "code",
   "execution_count": null,
   "metadata": {},
   "outputs": [],
   "source": [
    "sol1 = solve(F1 * X - P1, X)\n",
    "X1 = list(sol1.values())\n",
    "X1.insert(0, 0)\n",
    "Matrix(X1)"
   ]
  },
  {
   "cell_type": "code",
   "execution_count": null,
   "metadata": {},
   "outputs": [],
   "source": [
    "R11 = rij_q(X1[0], X1[1], 3);\n",
    "R21 = rij(X1[1], X1[2], 4.5);\n",
    "R31 = rij(X1[2], X1[3], 4);\n",
    "R41 = rij(X1[3], X1[4], 5);\n",
    "R51 = rij(X1[4], X1[5], 6.15);\n",
    "R61 = rij(X1[5], X1[6], 4);\n",
    "R1 = np.array([R11, R21, R31, R41, R51, R61])\n",
    "Matrix(R1)"
   ]
  },
  {
   "cell_type": "code",
   "execution_count": null,
   "metadata": {},
   "outputs": [],
   "source": [
    "def H(s):\n",
    "    if s <= 0:\n",
    "        return 0\n",
    "    else:\n",
    "        return 1\n",
    "Hv = np.vectorize(H)"
   ]
  },
  {
   "cell_type": "code",
   "execution_count": null,
   "metadata": {},
   "outputs": [],
   "source": [
    "s = np.linspace(0,26.65, num=1000)\n",
    "M1 = (X1[0] + R1[0] * s - s**2 /2) * (Hv(s) - Hv(s-3)) + (X1[1] + R1[1]*(s-3)) * (Hv(s-3) - Hv(s-(3+4.5))) + (X1[2] + R1[2]*(s-(3+4.5)))*(Hv(s-(3+4.5)) - Hv(s-(3+4.5+4))) + (X1[3] + R1[3]*(s-(3+4.5+4)))* (Hv(s-(3+4.5+4)) - Hv(s-(3+4.5+4+5))) + (X1[4] + R1[4]*(s-(3+4.5+4+5))) * (Hv(s-(3+4.5+4+5)) - Hv(s-(3+4.5+4+5+6.15))) + (X1[5] + R1[5]*(s-(3+4.5+4+5+6.15))) * (Hv(s-(3+4.5+4+5+6.15)) - Hv(s-(3+4.5+4+5+6.15+4)))\n",
    "\n",
    "#----------PLOT------------------\n",
    "\n",
    "plt.figure(figsize=(20,10))\n",
    "plt.plot(s, M1, color='blue')\n",
    "plt.xlim(s.min(), s.max())\n",
    "plt.gca().invert_yaxis()\n",
    "plt.grid()\n",
    "plt.xlabel(r'$s\\,[m]$', fontsize='14')\n",
    "plt.ylabel(r'$M_1(s)\\,[kN\\,m]$', fontsize='14')\n",
    "plt.xticks([3.5, 7.5, 11.5, 16.5, 22.65, 26.65])\n",
    "plt.axhline(0, color='black')\n",
    "plt.title('Bending Moment (Load on span 1)', fontsize='22')\n",
    "plt.show()\n",
    "\n",
    "#-------------ZOOM-------------------\n",
    "\n",
    "plt.subplots(1,1, figsize=(20,10))\n",
    "ax3 = plt.subplot()\n",
    "ax3.plot(s, M1, color='blue')\n",
    "ax3.set_xlim(15, 26.65) \n",
    "ax3.set_ylim(-.05, .05)\n",
    "plt.gca().invert_yaxis()\n",
    "plt.grid()\n",
    "plt.xlabel(r'$s\\,[m]$', fontsize='14')\n",
    "plt.ylabel(r'$M_1(s)\\,[kN\\,m]$', fontsize='14')\n",
    "plt.xticks([3.5, 7.5, 11.5, 16.5, 22.65, 26.65])\n",
    "ax3.axhline(0, color='black')\n",
    "ax3.set_title('Zoomed in', fontsize='22')\n",
    "plt.show()"
   ]
  },
  {
   "cell_type": "markdown",
   "metadata": {},
   "source": [
    "---\n",
    "#### Load on Span 2"
   ]
  },
  {
   "cell_type": "code",
   "execution_count": null,
   "metadata": {},
   "outputs": [],
   "source": [
    "P2 = P.subs(list(zip([l1, l2, l3, l4, l5, l6, ej, q1, q2, q3, q4, q5, q6], [3, 4.5, 4, 5, 6.15, 4, 9375, 0, 1, 0, 0, 0, 0])))\n",
    "P2"
   ]
  },
  {
   "cell_type": "code",
   "execution_count": null,
   "metadata": {},
   "outputs": [],
   "source": [
    "sol2 = solve(Fn * X - P2, X)\n",
    "X2 = list(sol2.values())\n",
    "X2.insert(0, 0)\n",
    "Matrix(X2)"
   ]
  },
  {
   "cell_type": "code",
   "execution_count": null,
   "metadata": {},
   "outputs": [],
   "source": [
    "R12 = rij(X2[0], X2[1], 3);\n",
    "R22 = rij_q(X2[1], X2[2], 4.5);\n",
    "R32 = rij(X2[2], X2[3], 4);\n",
    "R42 = rij(X2[3], X2[4], 5);\n",
    "R52 = rij(X2[4], X2[5], 6.15);\n",
    "R62 = rij(X2[5], X2[6], 4);\n",
    "R2 = np.array([R12, R22, R32, R42, R52, R62])\n",
    "Matrix(R2)"
   ]
  },
  {
   "cell_type": "code",
   "execution_count": null,
   "metadata": {},
   "outputs": [],
   "source": [
    "s = np.linspace(0,26.65, num=1000)\n",
    "M2 = (X2[0] + R2[0] * s) * (Hv(s) - Hv(s-3)) + (X2[1] + R2[1]*(s-3) - 1*(s-3)**2 /2) * (Hv(s-3) - Hv(s-(3+4.5))) + (X2[2] + R2[2]*(s-(3+4.5)))*(Hv(s-(3+4.5)) - Hv(s-(3+4.5+4))) + (X2[3] + R2[3]*(s-(3+4.5+4)))* (Hv(s-(3+4.5+4)) - Hv(s-(3+4.5+4+5))) + (X2[4] + R2[4]*(s-(3+4.5+4+5))) * (Hv(s-(3+4.5+4+5)) - Hv(s-(3+4.5+4+5+6.15))) + (X2[5] + R2[5]*(s-(3+4.5+4+5+6.15))) * (Hv(s-(3+4.5+4+5+6.15)) - Hv(s-(3+4.5+4+5+6.15+4)))"
   ]
  },
  {
   "cell_type": "code",
   "execution_count": null,
   "metadata": {},
   "outputs": [],
   "source": [
    "#----------PLOT------------------\n",
    "\n",
    "plt.figure(figsize=(20,10))\n",
    "plt.plot(s, M2, color='red')\n",
    "plt.xlim(s.min(), s.max())\n",
    "plt.gca().invert_yaxis()\n",
    "plt.grid()\n",
    "plt.xlabel(r'$s\\,[m]$', fontsize='14')\n",
    "plt.ylabel(r'$M_2(s)\\,[kN\\,m]$', fontsize='14')\n",
    "plt.xticks([3.5, 7.5, 11.5, 16.5, 22.65, 26.65])\n",
    "plt.axhline(0, color='black')\n",
    "plt.title('Bending Moment (Load on span 2)', fontsize='22')\n",
    "plt.show()\n",
    "\n",
    "#-------------ZOOM-------------------\n",
    "\n",
    "plt.subplots(1,1, figsize=(20,10))\n",
    "ax3 = plt.subplot()\n",
    "ax3.plot(s, M2, color='red')\n",
    "ax3.set_xlim(16, 26.65) \n",
    "ax3.set_ylim(-.1, .1)\n",
    "plt.gca().invert_yaxis()\n",
    "plt.grid()\n",
    "plt.xlabel(r'$s\\,[m]$', fontsize='14')\n",
    "plt.ylabel(r'$M_2(s)\\,[kN\\,m]$', fontsize='14')\n",
    "plt.xticks([3.5, 7.5, 11.5, 16.5, 22.65, 26.65])\n",
    "ax3.axhline(0, color='black')\n",
    "ax3.set_title('Zoomed in', fontsize='22')\n",
    "plt.show()"
   ]
  },
  {
   "cell_type": "markdown",
   "metadata": {},
   "source": [
    "---\n",
    "#### Load on Span 3"
   ]
  },
  {
   "cell_type": "code",
   "execution_count": null,
   "metadata": {},
   "outputs": [],
   "source": [
    "P3 = P.subs(list(zip([l1, l2, l3, l4, l5, l6, ej, q1, q2, q3, q4, q5, q6], [3, 4.5, 4, 5, 6.15, 4, 9375, 0, 0, 1, 0, 0, 0])))\n",
    "P3"
   ]
  },
  {
   "cell_type": "code",
   "execution_count": null,
   "metadata": {},
   "outputs": [],
   "source": [
    "sol3 = solve(Fn * X - P3, X)\n",
    "X3 = list(sol3.values())\n",
    "X3.insert(0, 0)\n",
    "Matrix(X3)"
   ]
  },
  {
   "cell_type": "code",
   "execution_count": null,
   "metadata": {},
   "outputs": [],
   "source": [
    "R13 = rij(X3[0], X3[1], 3);\n",
    "R23 = rij(X3[1], X3[2], 4.5);\n",
    "R33 = rij_q(X2[2], X3[3], 4);\n",
    "R43 = rij(X3[3], X3[4], 5);\n",
    "R53 = rij(X3[4], X3[5], 6.15);\n",
    "R63 = rij(X3[5], X3[6], 4);\n",
    "R3 = np.array([R13, R23, R33, R43, R53, R63])\n",
    "Matrix(R3)"
   ]
  },
  {
   "cell_type": "code",
   "execution_count": null,
   "metadata": {},
   "outputs": [],
   "source": [
    "s = np.linspace(0,26.65, num=1000)\n",
    "M3 = (X3[0] + R3[0] * s) * (Hv(s) - Hv(s-3)) + (X3[1] + R3[1]*(s-3)) * (Hv(s-3) - Hv(s-(3+4.5))) + (X3[2] + R3[2]*(s-(3+4.5)) - 1*(s-(3+4.5))**2 /2)*(Hv(s-(3+4.5)) - Hv(s-(3+4.5+4))) + (X3[3] + R3[3]*(s-(3+4.5+4)))* (Hv(s-(3+4.5+4)) - Hv(s-(3+4.5+4+5))) + (X3[4] + R3[4]*(s-(3+4.5+4+5))) * (Hv(s-(3+4.5+4+5)) - Hv(s-(3+4.5+4+5+6.15))) + (X3[5] + R3[5]*(s-(3+4.5+4+5+6.15))) * (Hv(s-(3+4.5+4+5+6.15)) - Hv(s-(3+4.5+4+5+6.15+4)))"
   ]
  },
  {
   "cell_type": "code",
   "execution_count": null,
   "metadata": {},
   "outputs": [],
   "source": [
    "#----------PLOT------------------\n",
    "\n",
    "plt.figure(figsize=(20,10))\n",
    "plt.plot(s, M3, color='green')\n",
    "plt.xlim(s.min(), s.max())\n",
    "plt.gca().invert_yaxis()\n",
    "plt.grid()\n",
    "plt.xlabel(r'$s\\,[m]$', fontsize='14')\n",
    "plt.ylabel(r'$M_3(s)\\,[kN\\,m]$', fontsize='14')\n",
    "plt.xticks([3.5, 7.5, 11.5, 16.5, 22.65, 26.65])\n",
    "plt.axhline(0, color='black')\n",
    "plt.title('Bending Moment (Load on span 3)', fontsize='22')\n",
    "plt.show()"
   ]
  },
  {
   "cell_type": "code",
   "execution_count": null,
   "metadata": {},
   "outputs": [],
   "source": []
  },
  {
   "cell_type": "markdown",
   "metadata": {},
   "source": [
    "---\n",
    "#### Load on Span 4"
   ]
  },
  {
   "cell_type": "code",
   "execution_count": null,
   "metadata": {},
   "outputs": [],
   "source": [
    "P4 = P.subs(list(zip([l1, l2, l3, l4, l5, l6, ej, q1, q2, q3, q4, q5, q6], [3, 4.5, 4, 5, 6.15, 4, 9375, 0, 0, 0, 1, 0, 0])))\n",
    "P4"
   ]
  },
  {
   "cell_type": "code",
   "execution_count": null,
   "metadata": {},
   "outputs": [],
   "source": [
    "sol4 = solve(Fn * X - P4, X)\n",
    "X4 = list(sol4.values())\n",
    "X4.insert(0, 0)\n",
    "Matrix(X4)"
   ]
  },
  {
   "cell_type": "code",
   "execution_count": null,
   "metadata": {},
   "outputs": [],
   "source": [
    "R14 = rij(X4[0], X4[1], 3);\n",
    "R24 = rij(X4[1], X4[2], 4.5);\n",
    "R34 = rij(X4[2], X4[3], 4);\n",
    "R44 = rij_q(X4[3], X4[4], 5);\n",
    "R54 = rij(X4[4], X4[5], 6.15);\n",
    "R64 = rij(X4[5], X4[6], 4);\n",
    "R4 = np.array([R14, R24, R34, R44, R54, R64])\n",
    "Matrix(R4)"
   ]
  },
  {
   "cell_type": "code",
   "execution_count": null,
   "metadata": {},
   "outputs": [],
   "source": [
    "s = np.linspace(0,26.65, num=1000)\n",
    "M4 = (X4[0] + R4[0] * s) * (Hv(s) - Hv(s-3)) + (X4[1] + R4[1]*(s-3)) * (Hv(s-3) - Hv(s-(3+4.5))) + (X4[2] + R4[2]*(s-(3+4.5)))*(Hv(s-(3+4.5)) - Hv(s-(3+4.5+4))) + (X4[3] + R4[3]*(s-(3+4.5+4)) - 1* (s-(3+4.5+4))**2 /2)* (Hv(s-(3+4.5+4)) - Hv(s-(3+4.5+4+5))) + (X4[4] + R4[4]*(s-(3+4.5+4+5))) * (Hv(s-(3+4.5+4+5)) - Hv(s-(3+4.5+4+5+6.15))) + (X4[5] + R4[5]*(s-(3+4.5+4+5+6.15))) * (Hv(s-(3+4.5+4+5+6.15)) - Hv(s-(3+4.5+4+5+6.15+4)))"
   ]
  },
  {
   "cell_type": "code",
   "execution_count": null,
   "metadata": {},
   "outputs": [],
   "source": [
    "#----------PLOT------------------\n",
    "\n",
    "plt.figure(figsize=(20,10))\n",
    "plt.plot(s, M4, color='magenta')\n",
    "plt.xlim(s.min(), s.max())\n",
    "plt.gca().invert_yaxis()\n",
    "plt.grid()\n",
    "plt.xlabel(r'$s\\,[m]$', fontsize='14')\n",
    "plt.ylabel(r'$M_4(s)\\,[kN\\,m]$', fontsize='14')\n",
    "plt.xticks([3.5, 7.5, 11.5, 16.5, 22.65, 26.65])\n",
    "plt.axhline(0, color='black')\n",
    "plt.title('Bending Moment (Load on span 4)', fontsize='22')\n",
    "plt.show()\n"
   ]
  },
  {
   "cell_type": "markdown",
   "metadata": {},
   "source": [
    "---\n",
    "#### Load on Span 5"
   ]
  },
  {
   "cell_type": "code",
   "execution_count": null,
   "metadata": {},
   "outputs": [],
   "source": [
    "P5 = P.subs(list(zip([l1, l2, l3, l4, l5, l6, ej, q1, q2, q3, q4, q5, q6], [3, 4.5, 4, 5, 6.15, 4, 9375, 0, 0, 0, 0, 1, 0])))\n",
    "P5"
   ]
  },
  {
   "cell_type": "code",
   "execution_count": null,
   "metadata": {},
   "outputs": [],
   "source": [
    "sol5 = solve(Fn * X - P5, X)\n",
    "X5 = list(sol5.values())\n",
    "X5.insert(0, 0)\n",
    "Matrix(X5)"
   ]
  },
  {
   "cell_type": "code",
   "execution_count": null,
   "metadata": {},
   "outputs": [],
   "source": [
    "R15 = rij(X5[0], X5[1], 3);\n",
    "R25 = rij(X5[1], X5[2], 4.5);\n",
    "R35 = rij(X5[2], X5[3], 4);\n",
    "R45 = rij(X5[3], X5[4], 5);\n",
    "R55 = rij_q(X5[4], X5[5], 6.15);\n",
    "R65 = rij(X5[5], X5[6], 4);\n",
    "R5 = np.array([R15, R25, R35, R45, R55, R65])\n",
    "Matrix(R5)"
   ]
  },
  {
   "cell_type": "code",
   "execution_count": null,
   "metadata": {},
   "outputs": [],
   "source": [
    "s = np.linspace(0,26.65, num=1000)\n",
    "M5 = (X5[0] + R5[0] * s) * (Hv(s) - Hv(s-3)) + (X5[1] + R5[1]*(s-3)) * (Hv(s-3) - Hv(s-(3+4.5))) + (X5[2] + R5[2]*(s-(3+4.5)))*(Hv(s-(3+4.5)) - Hv(s-(3+4.5+4))) + (X5[3] + R5[3]*(s-(3+4.5+4)))* (Hv(s-(3+4.5+4)) - Hv(s-(3+4.5+4+5))) + (X5[4] + R5[4]*(s-(3+4.5+4+5)) - 1*(s-(3+4.5+4+5))**2 /2) * (Hv(s-(3+4.5+4+5)) - Hv(s-(3+4.5+4+5+6.15))) + (X5[5] + R5[5]*(s-(3+4.5+4+5+6.15))) * (Hv(s-(3+4.5+4+5+6.15)) - Hv(s-(3+4.5+4+5+6.15+4)))"
   ]
  },
  {
   "cell_type": "code",
   "execution_count": null,
   "metadata": {},
   "outputs": [],
   "source": [
    "#----------PLOT------------------\n",
    "\n",
    "plt.figure(figsize=(20,10))\n",
    "plt.plot(s, M5, color='gray')\n",
    "plt.xlim(s.min(), s.max())\n",
    "plt.gca().invert_yaxis()\n",
    "plt.grid()\n",
    "plt.xlabel(r'$s\\,[m]$', fontsize='14')\n",
    "plt.ylabel(r'$M_5(s)\\,[kN\\,m]$', fontsize='14')\n",
    "plt.xticks([3.5, 7.5, 11.5, 16.5, 22.65, 26.65])\n",
    "plt.axhline(0, color='black')\n",
    "plt.title('Bending Moment (Load on span 5)', fontsize='22')\n",
    "plt.show()"
   ]
  },
  {
   "cell_type": "markdown",
   "metadata": {},
   "source": [
    "---\n",
    "#### Load on Span 6"
   ]
  },
  {
   "cell_type": "code",
   "execution_count": null,
   "metadata": {},
   "outputs": [],
   "source": [
    "P6 = P.subs(list(zip([l1, l2, l3, l4, l5, l6, ej, q1, q2, q3, q4, q5, q6], [3, 4.5, 4, 5, 6.15, 4, 9375, 0, 0, 0, 0, 0, 1])))\n",
    "P6"
   ]
  },
  {
   "cell_type": "code",
   "execution_count": null,
   "metadata": {},
   "outputs": [],
   "source": [
    "sol6 = solve(Fn * X - P6, X)\n",
    "X6 = list(sol6.values())\n",
    "X6.insert(0, 0)\n",
    "Matrix(X6)"
   ]
  },
  {
   "cell_type": "code",
   "execution_count": null,
   "metadata": {},
   "outputs": [],
   "source": [
    "R16 = rij(X6[0], X6[1], 3);\n",
    "R26 = rij(X6[1], X6[2], 4.5);\n",
    "R36 = rij(X6[2], X6[3], 4);\n",
    "R46 = rij(X6[3], X6[4], 5);\n",
    "R56 = rij(X6[4], X6[5], 6.15);\n",
    "R66 = rij_q(X6[5], X6[6], 4);\n",
    "R6 = np.array([R16, R26, R36, R46, R56, R66])\n",
    "Matrix(R6)"
   ]
  },
  {
   "cell_type": "code",
   "execution_count": null,
   "metadata": {},
   "outputs": [],
   "source": [
    "s = np.linspace(0,26.65, num=1000)\n",
    "M6 = (X6[0] + R6[0] * s) * (Hv(s) - Hv(s-3)) + (X6[1] + R6[1]*(s-3)) * (Hv(s-3) - Hv(s-(3+4.5))) + (X6[2] + R6[2]*(s-(3+4.5)))*(Hv(s-(3+4.5)) - Hv(s-(3+4.5+4))) + (X6[3] + R6[3]*(s-(3+4.5+4)))* (Hv(s-(3+4.5+4)) - Hv(s-(3+4.5+4+5))) + (X6[4] + R6[4]*(s-(3+4.5+4+5))) * (Hv(s-(3+4.5+4+5)) - Hv(s-(3+4.5+4+5+6.15))) + (X6[5] + R6[5]*(s-(3+4.5+4+5+6.15)) -  1 *(s-(3+4.5+4+5+6.15))**2 /2) * (Hv(s-(3+4.5+4+5+6.15)) - Hv(s-(3+4.5+4+5+6.15+4)))"
   ]
  },
  {
   "cell_type": "code",
   "execution_count": null,
   "metadata": {},
   "outputs": [],
   "source": [
    "#----------PLOT------------------\n",
    "\n",
    "plt.figure(figsize=(20,10))\n",
    "plt.plot(s, M6, color='cyan', linewidth='2')\n",
    "plt.xlim(s.min(), s.max())\n",
    "plt.gca().invert_yaxis()\n",
    "plt.grid()\n",
    "plt.xlabel(r'$s\\,[m]$', fontsize='14')\n",
    "plt.ylabel(r'$M_6(s)\\,[kN\\,m]$', fontsize='14')\n",
    "plt.xticks([3.5, 7.5, 11.5, 16.5, 22.65, 26.65])\n",
    "plt.axhline(0, color='black')\n",
    "plt.title('Bending Moment (Load on span 6)', fontsize='22')\n",
    "plt.show()\n",
    "\n",
    "#-------------ZOOM-------------------\n",
    "\n",
    "plt.subplots(1,1, figsize=(20,10))\n",
    "ax3 = plt.subplot()\n",
    "ax3.plot(s, M6, color='cyan')\n",
    "ax3.set_xlim(0, 7.5) \n",
    "ax3.set_ylim(-.1, .1)\n",
    "plt.gca().invert_yaxis()\n",
    "plt.grid()\n",
    "plt.xlabel(r'$s\\,[m]$', fontsize='14')\n",
    "plt.ylabel(r'$M_6(s)\\,[kN\\,m]$', fontsize='14')\n",
    "plt.xticks([3.5, 7.5, 11.5, 16.5, 22.65, 26.65])\n",
    "ax3.axhline(0, color='black')\n",
    "ax3.set_title('Zoomed in', fontsize='22')\n",
    "plt.show()\n"
   ]
  },
  {
   "cell_type": "markdown",
   "metadata": {},
   "source": [
    "---"
   ]
  },
  {
   "cell_type": "code",
   "execution_count": null,
   "metadata": {},
   "outputs": [],
   "source": [
    "s = np.linspace(0,26.65, num=1000)\n",
    "\n",
    "plt.figure(figsize=(20,10))\n",
    "plt.plot(s, M1, color='blue', label=r'$M_1(s)$')\n",
    "plt.plot(s, M2, color='red', label=r'$M_2(s)$')\n",
    "plt.plot(s, M3, color='green', label=r'$M_3(s)$')\n",
    "plt.plot(s, M4, color='magenta', label=r'$M_4(s)$')\n",
    "plt.plot(s, M5, color='gray', label=r'$M_5(s)$')\n",
    "plt.plot(s, M6, color='cyan', label=r'$M_6(s)$')\n",
    "plt.xlim(s.min(), s.max())\n",
    "plt.legend()\n",
    "plt.gca().invert_yaxis()\n",
    "plt.grid()\n",
    "plt.xlabel(r'$s\\,[m]$', fontsize='14')\n",
    "plt.ylabel(r'$M(s)\\,[kN\\,m]$', fontsize='14')\n",
    "plt.xticks([0, 3.5, 7.5, 11.5, 16.5, 22.65, 26.65])\n",
    "plt.axhline(0, color='black')\n",
    "plt.title('Bending Moment Comparision', fontsize='22')\n",
    "plt.show()"
   ]
  },
  {
   "cell_type": "code",
   "execution_count": null,
   "metadata": {},
   "outputs": [],
   "source": [
    "m1 = np.zeros(1000)\n",
    "for i in range(0,999):\n",
    "    if M1[i] > 0:\n",
    "        m1[i] = M1[i]\n",
    "    else:\n",
    "        m1[i] = 0\n",
    "        \n",
    "m2 = np.zeros(1000)\n",
    "for i in range(0,999):\n",
    "    if M2[i] < 0:\n",
    "        m2[i] = M2[i]\n",
    "    else:\n",
    "        m2[i] = 0"
   ]
  },
  {
   "cell_type": "code",
   "execution_count": null,
   "metadata": {},
   "outputs": [],
   "source": [
    "#from scipy.signal import hilbert\n",
    "\n",
    "s = np.linspace(0,26.65, num=1000)\n",
    "\n",
    "plt.figure(figsize=(20,10))\n",
    "\n",
    "\n",
    "#plt.plot(s, m2, color='purple', label=r'$M_{tot}$', linewidth='3');\n",
    "#plt.plot(s,m1, color='purple', label=r'$M_{tot}$', linewidth='3')\n",
    "\n",
    "Mp = M1 * Hv(M1) + M2*Hv(M2) + M3*Hv(M3) + M4*Hv(M4) + M5*Hv(M5);\n",
    "Mn = M1*Hv(-M1) + M2*Hv(-M2) + M3*Hv(-M3) + M4*Hv(-M4) + M5*Hv(-M5) + M6*Hv(-M6)\n",
    "\n",
    "#plt.plot(s, M1 + M2 + M3 + M4 + M5 + M6, color='purple', linewidth=2, label=r'$\\sum{M_i}$')\n",
    "plt.plot(s,  M1 * Hv(M1) + M2*Hv(M2) + M3*Hv(M3) + M4*Hv(M4) + M5*Hv(M5), color='orange', linewidth='3' )\n",
    "plt.plot(s, M1*Hv(-M1) + M2*Hv(-M2) + M3*Hv(-M3) + M4*Hv(-M4) + M5*Hv(-M5) + M6*Hv(-M6), color='orange', linewidth='3')\n",
    "\n",
    "plt.gca().invert_yaxis()\n",
    "plt.legend()\n",
    "plt.grid()\n",
    "plt.xlim(0, 26.65)\n",
    "plt.xlabel(r'$s\\,[m]$', fontsize='14')\n",
    "plt.ylabel(r'$M(s)\\,[kN\\,m]$', fontsize='14')\n",
    "plt.xticks([0, 3.5, 7.5, 11.5, 16.5, 22.65, 26.65])\n",
    "plt.axhline(0, color='black')\n",
    "plt.title('Bending Moment Envelope', fontsize='22')\n",
    "plt.show()"
   ]
  },
  {
   "cell_type": "code",
   "execution_count": null,
   "metadata": {},
   "outputs": [],
   "source": [
    "s = np.linspace(0,26.65, num=1000)\n",
    "\n",
    "x = np.zeros(1000)\n",
    "\n",
    "plt.figure(figsize=(20,10))\n",
    "\n",
    "Mtot = M1+M2+M3+M4+M5+M6;\n",
    "\n",
    "\n",
    "#plt.plot(s, s**2, color='purple', linewidth=2, label=r'$\\sum{M_i}$')\n",
    "plt.fill_between(s, Mp, Mn)\n",
    "#plt.plot(s,  M1 * Hv(M1) + M2*Hv(M2) + M3*Hv(M3) + M4*Hv(M4) + M5*Hv(M5))\n",
    "#plt.plot(s, M1*Hv(-M1) + M2*Hv(-M2) + M3*Hv(-M3) + M4*Hv(-M4) + M5*Hv(-M5) + M6*Hv(-M6))\n",
    "\n",
    "plt.gca().invert_yaxis()\n",
    "plt.legend()\n",
    "plt.grid()\n",
    "plt.xlim(0, 26.65)\n",
    "plt.xlabel(r'$s\\,[m]$', fontsize='14')\n",
    "plt.ylabel(r'$M(s)\\,[kN\\,m]$', fontsize='14')\n",
    "plt.xticks([0, 3.5, 7.5, 11.5, 16.5, 22.65, 26.65])\n",
    "plt.axhline(0, color='black')\n",
    "plt.title('Bending Moment Envelope', fontsize='22')\n",
    "plt.show()"
   ]
  },
  {
   "cell_type": "code",
   "execution_count": null,
   "metadata": {},
   "outputs": [],
   "source": [
    "len(s)"
   ]
  },
  {
   "cell_type": "code",
   "execution_count": null,
   "metadata": {},
   "outputs": [],
   "source": []
  }
 ],
 "metadata": {
  "celltoolbar": "Slideshow",
  "kernelspec": {
   "display_name": "Python 3",
   "language": "python",
   "name": "python3"
  },
  "language_info": {
   "codemirror_mode": {
    "name": "ipython",
    "version": 3
   },
   "file_extension": ".py",
   "mimetype": "text/x-python",
   "name": "python",
   "nbconvert_exporter": "python",
   "pygments_lexer": "ipython3",
   "version": "3.6.8"
  }
 },
 "nbformat": 4,
 "nbformat_minor": 4
}
