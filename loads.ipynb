{
 "cells": [
  {
   "cell_type": "markdown",
   "metadata": {},
   "source": [
    "# Analysis of the loads acting on the building\n",
    "## *Matteo Franzoi* - Academic Year 2019/2020\n",
    "### matricola 166788 (triennale)\n",
    "---"
   ]
  },
  {
   "cell_type": "code",
   "execution_count": 1,
   "metadata": {},
   "outputs": [],
   "source": [
    "from engineering_notation import EngNumber\n",
    "import math\n",
    "import numpy as np\n",
    "from decimal import Decimal"
   ]
  },
  {
   "cell_type": "markdown",
   "metadata": {},
   "source": [
    "---\n",
    "#### Snow Load"
   ]
  },
  {
   "cell_type": "code",
   "execution_count": 2,
   "metadata": {},
   "outputs": [
    {
     "name": "stdout",
     "output_type": "stream",
     "text": [
      "3.0185626735901456 kN/m^2\n",
      "~=\n",
      "3.02 kN/m^2\n"
     ]
    }
   ],
   "source": [
    "qsk = 1.39*(1+(788/728)**2);\n",
    "print(qsk, 'kN/m^2\\n~=')\n",
    "qsk = EngNumber(qsk, precision=2)\n",
    "print(qsk, 'kN/m^2')"
   ]
  },
  {
   "cell_type": "code",
   "execution_count": 3,
   "metadata": {},
   "outputs": [],
   "source": [
    "#Copertura piana\n",
    "mu_1 = .8;\n",
    "#Non diversamente indicato\n",
    "C_E = 1;\n",
    "#Cautelativamente (no info)\n",
    "C_t = 1;"
   ]
  },
  {
   "cell_type": "code",
   "execution_count": 4,
   "metadata": {},
   "outputs": [
    {
     "name": "stdout",
     "output_type": "stream",
     "text": [
      "2.41 kN/m^2\n"
     ]
    }
   ],
   "source": [
    "def qs(qsk, mu, CE, Ct):\n",
    "    return qsk * mu * CE * Ct\n",
    "\n",
    "qs1 = qs(qsk, mu_1, C_E, C_t);\n",
    "qs1 = EngNumber(qs1, precision=2)\n",
    "print(qs1, 'kN/m^2')"
   ]
  },
  {
   "cell_type": "code",
   "execution_count": 5,
   "metadata": {},
   "outputs": [
    {
     "data": {
      "text/plain": [
       "3.87"
      ]
     },
     "execution_count": 5,
     "metadata": {},
     "output_type": "execute_result"
    }
   ],
   "source": [
    "mu_w = (18 + 6)/6.2\n",
    "mu_w < 4.11\n",
    "mu_w = EngNumber(mu_w, precision=2)\n",
    "mu_w"
   ]
  },
  {
   "cell_type": "code",
   "execution_count": 6,
   "metadata": {},
   "outputs": [
    {
     "data": {
      "text/plain": [
       "2.34"
      ]
     },
     "execution_count": 6,
     "metadata": {},
     "output_type": "execute_result"
    }
   ],
   "source": [
    "if 6 < 2*6.2:\n",
    "    mu_2 = (mu_1 + mu_w)/2\n",
    "else:\n",
    "    mu_2 = mu_1 + mu_w/2\n",
    "    \n",
    "mu_2 = EngNumber(mu_2)\n",
    "mu_2"
   ]
  },
  {
   "cell_type": "code",
   "execution_count": 7,
   "metadata": {},
   "outputs": [
    {
     "name": "stdout",
     "output_type": "stream",
     "text": [
      "7.06 kN/m^2\n"
     ]
    }
   ],
   "source": [
    "qs2 = qs(qsk, mu_2, C_E, C_t);\n",
    "\n",
    "qs2 = EngNumber(qs2, precision=2)\n",
    "\n",
    "print(qs2, 'kN/m^2')"
   ]
  },
  {
   "cell_type": "code",
   "execution_count": 8,
   "metadata": {},
   "outputs": [
    {
     "data": {
      "text/plain": [
       "7.06"
      ]
     },
     "execution_count": 8,
     "metadata": {},
     "output_type": "execute_result"
    }
   ],
   "source": [
    "qs = max(qs1, qs2)\n",
    "qs"
   ]
  },
  {
   "cell_type": "markdown",
   "metadata": {},
   "source": [
    "---\n",
    "#### Wind Load"
   ]
  },
  {
   "cell_type": "code",
   "execution_count": 9,
   "metadata": {},
   "outputs": [
    {
     "data": {
      "text/plain": [
       "390.625"
      ]
     },
     "execution_count": 9,
     "metadata": {},
     "output_type": "execute_result"
    }
   ],
   "source": [
    "q_cin = 1/2 * 1.25 * 25**2\n",
    "q_cin"
   ]
  },
  {
   "cell_type": "code",
   "execution_count": 10,
   "metadata": {},
   "outputs": [
    {
     "data": {
      "text/plain": [
       "1.76"
      ]
     },
     "execution_count": 10,
     "metadata": {},
     "output_type": "execute_result"
    }
   ],
   "source": [
    "def ce(z, kr, ct, zmin):\n",
    "    return kr**2 *ct*math.log(z/zmin)*(7+ct*math.log(z/zmin))\n",
    "    \n",
    "c_e = EngNumber(ce(9.7, .22, 1, .3), precision=2);\n",
    "c_e"
   ]
  },
  {
   "cell_type": "code",
   "execution_count": 11,
   "metadata": {},
   "outputs": [
    {
     "name": "stdout",
     "output_type": "stream",
     "text": [
      "0.138 kN/m^2\n"
     ]
    }
   ],
   "source": [
    "c_p=.2;\n",
    "c_d=1;\n",
    "\n",
    "p = q_cin * c_e*c_p*c_d;\n",
    "p = float(p/1000)\n",
    "p = round(p,3)\n",
    "print(p, 'kN/m^2')"
   ]
  },
  {
   "cell_type": "code",
   "execution_count": 12,
   "metadata": {},
   "outputs": [],
   "source": [
    "#-------------------\n",
    "# TRAVE P13 - P16\n",
    "\n",
    "# COMBO 1: NEVE PRINCIPALE\n",
    "Q11max_slu = 1.3*(8+11.52 + 3.75) + 1.5*(11.55+7.98 + 9.2) + 1.5*(25.42) + 1.5*.7*(7.5+10.80) + 1.5*.6*.5\n",
    "Q11min_slu = 1*(8+11.52 + 3.75) + .8*(11.55+7.98 + 9.2)\n",
    "\n",
    "# COMBO 2: CAT. B (TERRAZZO) PRINCIPALE\n",
    "Q12max_slu = 1.3*(8+11.52 + 3.75) + 1.5*(11.55+7.98 + 9.2) + 1.5*0.5*8.68 + 1.5*.7*(7.5) + 1.5*(10.80) + 1.5*.6*.3\n",
    "Q12min_slu = 1*(8+11.52 + 3.75) + .8*(11.55+7.98 + 9.2)\n",
    "\n",
    "# COMBO 3: CAT. B2 (INTERNO) PRINCIPALE\n",
    "Q13max_slu = 1.3*(8+11.52 + 3.75) + 1.5*(11.55+7.98 + 9.2) + 1.5*0.5*8.68 + 1.5*.7*10.80 + 1.5*7.5 + 1.5*.6*.3\n",
    "Q13min_slu = 1*(8+11.52 + 3.75) + .8*(11.55+7.98 + 9.2)\n",
    "\n",
    "#-------------------\n",
    "# TRAVE P16 - P17\n",
    "\n",
    "# COMBO 1: NEVE PRINCIPALE\n",
    "Q21max_slu = 1.3*(8+6.72 + 3.75) + 1.5*(11.55+4.65 + 9.2) + 1.5*(14.83) + 1.5*.7*(7.5+8.4) + 1.5*.6*.3\n",
    "Q21min_slu = 1*(8+6.72 + 3.75) + .8*(11.55+4.65 + 9.2)\n",
    "\n",
    "# COMBO 2: CAT. B (TERRAZZO) PRINCIPALE\n",
    "Q22max_slu = 1.3*(8+6.72 + 3.75) + 1.5*(11.55+4.65 + 9.2) + 1.5*.5*(5.06) + 1.5*.7*(7.5) + 1.5*(8.4) + 1.5*.6*.3\n",
    "Q22min_slu = 1*(8+6.72 + 3.75) + .8*(11.55+4.65 + 9.2)\n",
    "\n",
    "# COMBO 3: CAT. B2 (INTERNO) PRINCIPALE\n",
    "Q23max_slu = 1.3*(8+6.72 + 3.75) + 1.5*(11.55+4.65 + 9.2) + 1.5*.5*(5.06) + 1.5*(7.5) + 1.5*.7*(8.4) + 1.5*.6*.3\n",
    "Q23min_slu = 1*(8+6.72 + 3.75) + .8*(11.55+4.65 + 9.2)\n",
    "\n",
    "#-------------------\n",
    "# TRAVE P17 - VANO SCALA\n",
    "\n",
    "# COMBO 1: NEVE PRINCIPALE\n",
    "Q31max_slu = 1.3*(8+3.2 + 3.75) + 1.5*(11.55+2.215 + 9.2) + 1.5*(7.06) + 1.5*.7*(7.5+4) + 1.5*.6*.138\n",
    "Q31min_slu = 1*(8+3.2 + 3.75) + .8*(11.55+2.215 + 9.2)\n",
    "\n",
    "# COMBO 2: CAT. B (TERRAZZO) PRINCIPALE\n",
    "Q32max_slu = 1.3*(8+3.2 + 3.75) + 1.5*(11.55+2.215 + 9.2) + 1.5*.5*(2.41) + 1.5*.7*(7.5)+ 1.5*(4) + 1.5*.6*.138\n",
    "Q32min_slu = 1*(8+3.2 + 3.75) + .8*(11.55+2.215 + 9.2)\n",
    "\n",
    "# COMBO 3: CAT. B2 (INTERNO) PRINCIPALE\n",
    "Q33max_slu = 1.3*(8+3.2 + 3.75) + 1.5*(11.55+2.215 + 9.2) + 1.5*.5*(2.41) + 1.5*(7.5)+ 1.5*.7*(4) + 1.5*.6*.138\n",
    "Q33min_slu = 1*(8+3.2 + 3.75) + .8*(11.55+2.215 + 9.2)\n",
    "\n",
    "\n",
    "Q1max_slu = EngNumber(Q11max_slu, precision=2)\n",
    "Q1min_slu = EngNumber(Q11min_slu, precision=2)\n",
    "\n",
    "Q2max_slu = EngNumber(Q21max_slu, precision=2)\n",
    "Q2min_slu = EngNumber(Q21min_slu, precision=1)\n",
    "\n",
    "Q3max_slu = EngNumber(Q31max_slu, precision=2)\n",
    "Q3min_slu = EngNumber(Q31min_slu, precision=2)"
   ]
  },
  {
   "cell_type": "markdown",
   "metadata": {},
   "source": [
    "---\n",
    "## SLE RARA"
   ]
  },
  {
   "cell_type": "markdown",
   "metadata": {},
   "source": [
    "### P13 - P16"
   ]
  },
  {
   "cell_type": "code",
   "execution_count": 13,
   "metadata": {},
   "outputs": [],
   "source": [
    "# NEVE PRINCIPALE\n",
    "Q1max_sle_rara = 8+11.52+3.75 + 11.55+7.98+9.2 + 25.42 + .7*(7.5+10.80) + .6*.5"
   ]
  },
  {
   "cell_type": "code",
   "execution_count": 14,
   "metadata": {},
   "outputs": [],
   "source": [
    "# CAT. B2 SOLAIO INTERNO\n",
    "Q1min_sle_rara = 8+11.52+3.75 + 11.55+7.98+9.2 + .5*8.6 + .7*(10.80) + .6*.5 + 7.5"
   ]
  },
  {
   "cell_type": "code",
   "execution_count": 15,
   "metadata": {},
   "outputs": [
    {
     "data": {
      "text/plain": [
       "72.64999999999999"
      ]
     },
     "execution_count": 15,
     "metadata": {},
     "output_type": "execute_result"
    }
   ],
   "source": [
    "# CAT. B TERRAZZO\n",
    "8+11.52+3.75 + 11.55+7.98+9.2 + .5*8.6 + .7*(7.5) + .6*.5 +10.80"
   ]
  },
  {
   "cell_type": "markdown",
   "metadata": {},
   "source": [
    "### P16 - P17"
   ]
  },
  {
   "cell_type": "code",
   "execution_count": 16,
   "metadata": {},
   "outputs": [
    {
     "data": {
      "text/plain": [
       "70.01"
      ]
     },
     "execution_count": 16,
     "metadata": {},
     "output_type": "execute_result"
    }
   ],
   "source": [
    "# NEVE PRINCIPALE\n",
    "Q2max_sle_rara = 8+6.72+3.75 + 11.55+4.65+9.20 + 14.83 + .7*(7.5+8.4) + .6*.3\n",
    "Q2max_sle_rara"
   ]
  },
  {
   "cell_type": "code",
   "execution_count": 17,
   "metadata": {},
   "outputs": [],
   "source": [
    "# CAT. B2 SOLAIO INTERNO\n",
    "Q2min_sle_rara = 8+6.72+3.75 + 11.55+4.65+9.20 + .5*5.06 + .7*(8.4) + .6*.3+7.5"
   ]
  },
  {
   "cell_type": "code",
   "execution_count": 18,
   "metadata": {},
   "outputs": [
    {
     "data": {
      "text/plain": [
       "60.230000000000004"
      ]
     },
     "execution_count": 18,
     "metadata": {},
     "output_type": "execute_result"
    }
   ],
   "source": [
    "# CAT. B2 SOLAIO INTERNO\n",
    "8+6.72+3.75 + 11.55+4.65+9.20 + .5*5.06 + .7*(7.5) + .6*.3+8.4"
   ]
  },
  {
   "cell_type": "markdown",
   "metadata": {},
   "source": [
    "### P17 - VANO SCALA"
   ]
  },
  {
   "cell_type": "code",
   "execution_count": 19,
   "metadata": {},
   "outputs": [],
   "source": [
    "# NEVE PRINCIPALE\n",
    "Q3max_sle_rara = 8+3.2+3.75 + 11.55+2.215+9.20 + 7.06 + .7*(7.5+4) + .6*.138"
   ]
  },
  {
   "cell_type": "code",
   "execution_count": 20,
   "metadata": {},
   "outputs": [],
   "source": [
    "# CAT. B2 SOLAIO INTERNO\n",
    "Q3min_sle_rara = 8+3.2+3.75 + 11.55+2.215+9.20 + .5*2.41 + .7*(4) + .6*.138 + 7.5"
   ]
  },
  {
   "cell_type": "code",
   "execution_count": 21,
   "metadata": {},
   "outputs": [
    {
     "data": {
      "text/plain": [
       "48.452799999999996"
      ]
     },
     "execution_count": 21,
     "metadata": {},
     "output_type": "execute_result"
    }
   ],
   "source": [
    "# CAT. B2 SOLAIO INTERNO\n",
    "8+3.2+3.75 + 11.55+2.215+9.20 +.5* 2.41 + .7*(7.5) + .6*.138+4"
   ]
  },
  {
   "cell_type": "markdown",
   "metadata": {},
   "source": [
    "---\n",
    "## SLE FREQUENTE"
   ]
  },
  {
   "cell_type": "markdown",
   "metadata": {},
   "source": [
    "### P13 - P16"
   ]
  },
  {
   "cell_type": "code",
   "execution_count": 22,
   "metadata": {},
   "outputs": [
    {
     "name": "stdout",
     "output_type": "stream",
     "text": [
      "62.574000000000005 59.65 58.99\n"
     ]
    }
   ],
   "source": [
    "# COMBO 1: NEVE PRINCIPALE\n",
    "Q11_sle_freq = 8+11.52+3.75 + 11.55+7.98+9.2 + .2*25.42 + .3*(7.5+10.80) + .0*.5\n",
    "# COMBO 2: CAT B (TERRAZZO) PRINCIPALE\n",
    "Q12_sle_freq = 8+11.52+3.75 + 11.55+7.98+9.2 + 0*25.42 + .3*(7.5)+ .5*(10.80) + .0*.5\n",
    "# COMBO 3: CAT B2 (SOLAIO INTERNO) PRINCIPALE\n",
    "Q13_sle_freq = 8+11.52+3.75 + 11.55+7.98+9.2 + 0*25.42 + .5*(7.5)+ .3*(10.80) + .0*.5\n",
    "print(Q11_sle_freq, Q12_sle_freq, Q13_sle_freq)\n",
    "\n",
    "Q1max_sle_freq =  8+11.52+3.75 + 11.55+7.98+9.2 + .2*25.42 + .3*(7.5+10.80) + .0*.5\n",
    "Q1min_sle_freq = 8+11.52+3.75 + 11.55+7.98+9.2 + 0*25.42 + .5*(7.5)+ .3*(10.80) + .0*.5"
   ]
  },
  {
   "cell_type": "markdown",
   "metadata": {},
   "source": [
    "### P16 - P17"
   ]
  },
  {
   "cell_type": "code",
   "execution_count": 23,
   "metadata": {},
   "outputs": [
    {
     "name": "stdout",
     "output_type": "stream",
     "text": [
      "51.60600000000001 50.32000000000001 50.14000000000001\n"
     ]
    }
   ],
   "source": [
    "# COMBO 1: NEVE PRINCIPALE\n",
    "Q21_sle_freq = 8+6.72+3.75 + 11.55+4.65+9.20 + .2*14.83 + .3*(7.5+8.4) + .0*.3\n",
    "# COMBO 2: CAT B (TERRAZZO) PRINCIPALE\n",
    "Q22_sle_freq = 8+6.72+3.75 + 11.55+4.65+9.20 + .0*14.83 + .3*(7.5)+.5*(8.4) + .0*.3\n",
    "# COMBO 3: CAT B2 (SOLAIO INTERNO) PRINCIPALE\n",
    "Q23_sle_freq = 8+6.72+3.75 + 11.55+4.65+9.20 + .0*14.83 + .5*(7.5)+.3*(8.4) + .0*.3\n",
    "print(Q21_sle_freq, Q22_sle_freq, Q23_sle_freq)\n",
    "\n",
    "Q2max_sle_freq =  8+6.72+3.75 + 11.55+4.65+9.20 + .2*14.83 + .3*(7.5+8.4) + .0*.3\n",
    "Q2min_sle_freq = 8+6.72+3.75 + 11.55+4.65+9.20 + .0*14.83 + .5*(7.5)+.3*(8.4) + .0*.3"
   ]
  },
  {
   "cell_type": "markdown",
   "metadata": {},
   "source": [
    "### P17 - VANO SCALA"
   ]
  },
  {
   "cell_type": "code",
   "execution_count": 24,
   "metadata": {},
   "outputs": [
    {
     "name": "stdout",
     "output_type": "stream",
     "text": [
      "42.777 42.165 42.865\n"
     ]
    }
   ],
   "source": [
    "# COMBO 1: NEVE PRINCIPALE\n",
    "Q31_sle_freq = 8+3.2+3.75 + 11.55+2.215+9.20 + .2*7.06 + .3*(7.5+4) + .0*.138\n",
    "# COMBO 2: CAT B (TERRAZZO) PRINCIPALE\n",
    "Q32_sle_freq = 8+3.2+3.75 + 11.55+2.215+9.20 + 0*7.06 + .3*(7.5)+.5*(4) + .0*.138\n",
    "# COMBO 3: CAT B2 (SOLAIO INTERNO) PRINCIPALE\n",
    "Q33_sle_freq = 8+3.2+3.75 + 11.55+2.215+9.20 + 0*7.06 + .5*(7.5)+.3*(4) + .0*.138\n",
    "print(Q31_sle_freq, Q32_sle_freq, Q33_sle_freq)\n",
    "\n",
    "Q3max_sle_freq = 8+3.2+3.75 + 11.55+2.215+9.20 + 0*7.06 + .5*(7.5)+.3*(4) + .0*.138\n",
    "Q3min_sle_freq = 8+3.2+3.75 + 11.55+2.215+9.20 + 0*7.06 + .3*(7.5)+.5*(4) + .0*.138"
   ]
  },
  {
   "cell_type": "markdown",
   "metadata": {},
   "source": [
    "### SLE QUASI-PERMANENTE"
   ]
  },
  {
   "cell_type": "code",
   "execution_count": 25,
   "metadata": {},
   "outputs": [
    {
     "name": "stdout",
     "output_type": "stream",
     "text": [
      "57.49 48.64 41.365\n"
     ]
    }
   ],
   "source": [
    "Q1_sle_qp = 8+11.52+3.75 + 11.55+7.98+9.2 + 0*25.42 + .3*(7.5+10.80) + .0*.5\n",
    "Q2_sle_qp = 8+6.72+3.75 + 11.55+4.65+9.20 + 0*14.83 + .3*(7.5+8.4) + .0*.3\n",
    "Q3_sle_qp = 8+3.2+3.75 + 11.55+2.215+9.20 + 0*7.06 + .3*(7.5+4) + .0*.138\n",
    "\n",
    "print(Q1_sle_qp, Q2_sle_qp, Q3_sle_qp)\n"
   ]
  },
  {
   "cell_type": "markdown",
   "metadata": {},
   "source": [
    "---\n",
    "## P27\n",
    "### SLU"
   ]
  },
  {
   "cell_type": "code",
   "execution_count": 26,
   "metadata": {},
   "outputs": [
    {
     "name": "stdout",
     "output_type": "stream",
     "text": [
      "1763.9313000000002 889.0512000000001 1772.8983 1765.9818 1748.5353 1744.3053000000002 886.7112000000001\n"
     ]
    },
    {
     "data": {
      "text/plain": [
       "1772.8983"
      ]
     },
     "execution_count": 26,
     "metadata": {},
     "output_type": "execute_result"
    }
   ],
   "source": [
    "# Combo 1: Neve principale\n",
    "N11max = 1.3*(4*21.15+27.45+101.52+90.24+101.536+99.50)+1.5*(80.09+130.284+146.59+127.68)+1.5*(67.96+0*14.1+.7*56.40+.7*95.17+.7*110.54+.6*3.9)\n",
    "N11min = 1.0*(4*21.15+27.45+101.52+90.24+101.536+99.50)+.8*(80.09+130.284+146.59+127.68)+0*(67.96+0*14.1+.7*56.40+.7*95.17+.7*110.54)-1.5*.6*3.9\n",
    "\n",
    "\n",
    "# Combo 2: CAT.D1 principale\n",
    "N12max = 1.3*(4*21.15+27.45+101.52+90.24+101.536+99.50)+1.5*(80.09+130.284+146.59+127.68)+1.5*(.6*67.96+0*14.1+.7*56.40+.7*95.17+110.54+.6*3.9)\n",
    "\n",
    "# Combo 3: CAT.B2 principale\n",
    "N13max = 1.3*(4*21.15+27.45+101.52+90.24+101.536+99.50)+1.5*(80.09+130.284+146.59+127.68)+1.5*(.6*67.96+0*14.1+.7*56.40+95.17+.7*110.54+.6*3.9)\n",
    "\n",
    "# Combo 4: CAT.A principale\n",
    "N14max = 1.3*(4*21.15+27.45+101.52+90.24+101.536+99.50)+1.5*(80.09+130.284+146.59+127.68)+1.5*(.6*67.96+0*14.1+56.40+.7*95.17+.7*110.54+.6*3.9)\n",
    "\n",
    "# Combo 5: CAT.H principale\n",
    "N15max = 1.3*(4*21.15+27.45+101.52+90.24+101.536+99.50)+1.5*(80.09+130.284+146.59+127.68)+1.5*(.6*67.96+14.1+.7*56.40+.7*95.17+.7*110.54+.6*3.9)\n",
    "\n",
    "# Combo 6: Vento principale\n",
    "N16min = 1.0*(4*21.15+27.45+101.52+90.24+101.536+99.50)+.8*(80.09+130.284+146.59+127.68)+0*(67.96+0*14.1+.7*56.40+.7*95.17+.7*110.54)-1.5*3.9\n",
    "\n",
    "\n",
    "\n",
    "\n",
    "print(N11max, N11min, N12max, N13max, N14max, N15max, N16min)\n",
    "max(N11max, N11min, N12max, N13max, N14max, N15max, N16min)"
   ]
  },
  {
   "cell_type": "markdown",
   "metadata": {},
   "source": [
    "### SLE RARA"
   ]
  },
  {
   "cell_type": "code",
   "execution_count": 27,
   "metadata": {},
   "outputs": [
    {
     "name": "stdout",
     "output_type": "stream",
     "text": [
      "1243.267 1249.245 1244.634 1233.003 1230.183 1217.643\n"
     ]
    }
   ],
   "source": [
    "# Combo 1: Neve principale\n",
    "N11 = (4*21.15+27.45+101.52+90.24+101.536+99.50)+(80.09+130.284+146.59+127.68)+(67.96+0*14.1+.7*56.40+.7*95.17+.7*110.54+.6*3.9)\n",
    "\n",
    "# Combo 2: CAT.D1 principale\n",
    "N12 = (4*21.15+27.45+101.52+90.24+101.536+99.50)+(80.09+130.284+146.59+127.68)+(.6*67.96+0*14.1+.7*56.40+.7*95.17+110.54+.6*3.9)\n",
    "\n",
    "# Combo 3: CAT.B2 principale\n",
    "N13 = (4*21.15+27.45+101.52+90.24+101.536+99.50)+(80.09+130.284+146.59+127.68)+(.6*67.96+0*14.1+.7*56.40+95.17+.7*110.54+.6*3.9)\n",
    "\n",
    "# Combo 4: CAT.A principale\n",
    "N14 = (4*21.15+27.45+101.52+90.24+101.536+99.50)+(80.09+130.284+146.59+127.68)+(.6*67.96+0*14.1+56.40+.7*95.17+.7*110.54+.6*3.9)\n",
    "\n",
    "# Combo 5: CAT.H principale\n",
    "N15 = (4*21.15+27.45+101.52+90.24+101.536+99.50)+(80.09+130.284+146.59+127.68)+(.6*67.96+14.1+.7*56.40+.7*95.17+.7*110.54+.6*3.9)\n",
    "\n",
    "# Combo 6: Vento principale\n",
    "N16 = (4*21.15+27.45+101.52+90.24+101.536+99.50)+(80.09+130.284+146.59+127.68)+(.6*67.96+0*14.1+.7*56.40+.7*95.17+.7*110.54+3.9)\n",
    "\n",
    "\n",
    "print(N11, N12, N13, N14, N15, N16)"
   ]
  },
  {
   "cell_type": "markdown",
   "metadata": {},
   "source": [
    "### SLE FREQUENTE"
   ]
  },
  {
   "cell_type": "code",
   "execution_count": 28,
   "metadata": {},
   "outputs": [
    {
     "name": "stdout",
     "output_type": "stream",
     "text": [
      "1114.877 1112.339 1103.399 1112.565 1101.285 1102.065\n"
     ]
    }
   ],
   "source": [
    "# Combo 1: Neve principale\n",
    "N11 = (4*21.15+27.45+101.52+90.24+101.536+99.50)+(80.09+130.284+146.59+127.68)+(.2*67.96+0*14.1+.3*56.40+.3*95.17+.6*110.54+0*3.9)\n",
    "\n",
    "# Combo 2: CAT.D1 principale\n",
    "N12 = (4*21.15+27.45+101.52+90.24+101.536+99.50)+(80.09+130.284+146.59+127.68)+(0*67.96+0*14.1+.3*56.40+.3*95.17+.7*110.54+0*3.9)\n",
    "\n",
    "# Combo 3: CAT.B2 principale\n",
    "N13 = (4*21.15+27.45+101.52+90.24+101.536+99.50)+(80.09+130.284+146.59+127.68)+(0*67.96+0*14.1+0*56.40+.5*95.17+.6*110.54+0*3.9)\n",
    "\n",
    "# Combo 4: CAT.A principale\n",
    "N14 = (4*21.15+27.45+101.52+90.24+101.536+99.50)+(80.09+130.284+146.59+127.68)+(0*67.96+0*14.1+.5*56.40+.3*95.17+.6*110.54+0*3.9)\n",
    "\n",
    "# Combo 5: CAT.H principale\n",
    "N15 = (4*21.15+27.45+101.52+90.24+101.536+99.50)+(80.09+130.284+146.59+127.68)+(0*67.96+0*14.1+.3*56.40+.3*95.17+.6*110.54+0*3.9)\n",
    "\n",
    "# Combo 6: Vento principale\n",
    "N16 = (4*21.15+27.45+101.52+90.24+101.536+99.50)+(80.09+130.284+146.59+127.68)+(0*67.96+0*14.1+.3*56.40+.3*95.17+.6*110.54+0.2*3.9)\n",
    "\n",
    "\n",
    "print(N11, N12, N13, N14, N15, N16)"
   ]
  },
  {
   "cell_type": "markdown",
   "metadata": {},
   "source": [
    "### SLE QUASI PERMANENTE"
   ]
  },
  {
   "cell_type": "code",
   "execution_count": 29,
   "metadata": {},
   "outputs": [
    {
     "data": {
      "text/plain": [
       "1101.285"
      ]
     },
     "execution_count": 29,
     "metadata": {},
     "output_type": "execute_result"
    }
   ],
   "source": [
    "N1 = (4*21.15+27.45+101.52+90.24+101.536+99.50)+(80.09+130.284+146.59+127.68)+(0*67.96+0*14.1+.3*56.40+.3*95.17+.6*110.54+0*3.9)\n",
    "N1"
   ]
  },
  {
   "cell_type": "markdown",
   "metadata": {},
   "source": [
    "---\n",
    "## P36\n",
    "### SLU"
   ]
  },
  {
   "cell_type": "code",
   "execution_count": 37,
   "metadata": {},
   "outputs": [
    {
     "name": "stdout",
     "output_type": "stream",
     "text": [
      "1050.2721 454.73400000000004 989.8746 987.1746 960.1745999999999 959.7246\n"
     ]
    }
   ],
   "source": [
    "# Combo 1: Neve principale\n",
    "N21max = 1.3*(27.45 + 15+10.8 + 15+9.60 + 33.375+9.60+52.80+64.8+26.25)+1.5*(8.52+13.86+41.92+13.86+36.55+40.48+83.16)+1.5*(7.23+0*1.5+.7*6+.7*9+.7*66+116.50+.6*2.28+.7*72+.6*.414)\n",
    "\n",
    "# Combo 2: CAT.D1 principale\n",
    "N22max = 1.3*(27.45 + 15+10.8 + 15+9.60 + 33.375+9.60+52.80+64.8+26.25)+1.5*(8.52+13.86+41.92+13.86+36.55+40.48+83.16)+1.5*(.5*7.23+0*1.5+.7*6+.7*9+.7*66+.5*116.50+.6*2.28+72+.6*.414)\n",
    "\n",
    "\n",
    "# Combo 3: CAT.B terrazza principale\n",
    "N23max = 1.3*(27.45 + 15+10.8 + 15+9.60 + 33.375+9.60+52.80+64.8+26.25)+1.5*(8.52+13.86+41.92+13.86+36.55+40.48+83.16)+1.5*(.5*7.23+0*1.5+.7*6+.7*9+66+.5*116.50+.6*2.28+.7*72+.6*.414)\n",
    "\n",
    "# Combo 4: CAT.A principale\n",
    "N24max = 1.3*(27.45 + 15+10.8 + 15+9.60 + 33.375+9.60+52.80+64.8+26.25)+1.5*(8.52+13.86+41.92+13.86+36.55+40.48+83.16)+1.5*(.5*7.23+0*1.5+6+.7*9+.7*66+.5*116.50+.6*2.28+.7*72+.6*.414)\n",
    "\n",
    "# Combo 5: CAT.H principale\n",
    "N25max = 1.3*(27.45 + 15+10.8 + 15+9.60 + 33.375+9.60+52.80+64.8+26.25)+1.5*(8.52+13.86+41.92+13.86+36.55+40.48+83.16)+1.5*(.5*7.23+1.5+.7*6+.7*9+.7*66+.5*116.50+.6*2.28+.7*72+.6*.414)\n",
    "\n",
    "# Combo 6: Vento principale\n",
    "N2min = 1*(27.45 + 15+10.8 + 15+9.60 + 33.375+9.60+52.80+64.8+26.25)+.8*(8.52+13.86+41.92+13.86+36.55+40.48+83.16)+0*(.5*7.23+0*1.5+.7*6+.7*9+.7*66+.5*116.50+.6*2.28+72+.6*.414)-1.5*.414\n",
    "\n",
    "\n",
    "\n",
    "\n",
    "print(N21max, N2min, N22max, N23max, N24max, N25max)"
   ]
  },
  {
   "cell_type": "markdown",
   "metadata": {},
   "source": [
    "### SLE RARA"
   ]
  },
  {
   "cell_type": "code",
   "execution_count": 31,
   "metadata": {},
   "outputs": [
    {
     "name": "stdout",
     "output_type": "stream",
     "text": [
      "513.8984 522.2834 516.3584 514.0834 511.78340000000003 510.449\n"
     ]
    }
   ],
   "source": [
    "# Combo 1: Neve principale\n",
    "N21max = (27.45+2*15+33.375+26.25+10.80+9.60+21.60+36)+(8.52+13.86+31.19+46.20 + 165.20)+(7.23+0*1.5+.7*6+.7*20.25+.7*40+.6*.414)\n",
    "\n",
    "# Combo 2: CAT.D1 principale\n",
    "N22max = (27.45+2*15+33.375+26.25+10.80+9.60+21.60+36)+(8.52+13.86+31.19+46.20 + 165.20)+(.5*7.23+0*1.5+.7*6+.7*20.25+40+.6*.414)\n",
    "\n",
    "# Combo 3: CAT.B2 principale\n",
    "N23max = (27.45+2*15+33.375+26.25+10.80+9.60+21.60+36)+(8.52+13.86+31.19+46.20 + 165.20)+(.5*7.23+0*1.5+.7*6+20.25+.7*40+.6*.414)\n",
    "\n",
    "# Combo 4: CAT.A principale\n",
    "N24max = (27.45+2*15+33.375+26.25+10.80+9.60+21.60+36)+(8.52+13.86+31.19+46.20 + 165.20)+(.5*7.23+0*1.5+8+.7*20.25+.7*40+.6*.414)\n",
    "\n",
    "# Combo 5: CAT.H principale\n",
    "N25max = (27.45+2*15+33.375+26.25+10.80+9.60+21.60+36)+(8.52+13.86+31.19+46.20 + 165.20)+(.5*7.23+1.5+.7*6+.7*20.25+.7*40+.6*.414)\n",
    "\n",
    "# Combo 6: Vento principale\n",
    "N26max = (27.45+2*15+33.375+26.25+10.80+9.60+21.60+36)+(8.52+13.86+31.19+46.20 + 165.20)+(.5*7.23+0*1.5+.7*6+.7*20.25+.7*40+.414)\n",
    "\n",
    "\n",
    "\n",
    "\n",
    "print(N21max, N22max, N23max, N24max, N25max, N26max)"
   ]
  },
  {
   "cell_type": "markdown",
   "metadata": {},
   "source": [
    "### SLE FREQUENTE"
   ]
  },
  {
   "cell_type": "markdown",
   "metadata": {},
   "source": [
    "### SLE FREQUENTE"
   ]
  },
  {
   "cell_type": "code",
   "execution_count": 32,
   "metadata": {},
   "outputs": [
    {
     "name": "stdout",
     "output_type": "stream",
     "text": [
      "493.366 495.92 495.97 493.12 491.92 492.00280000000004\n"
     ]
    }
   ],
   "source": [
    "# Combo 1: Neve principale\n",
    "N21max = (27.45+2*15+33.375+26.25+10.80+9.60+21.60+36)+(8.52+13.86+31.19+46.20 + 165.20)+(.2*7.23+0*1.5+.3*6+.3*20.25+.6*40+0*.414)\n",
    "\n",
    "# Combo 2: CAT.D1 principale\n",
    "N22max = (27.45+2*15+33.375+26.25+10.80+9.60+21.60+36)+(8.52+13.86+31.19+46.20 + 165.20)+(0*7.23+0*1.5+.3*6+.3*20.25+.7*40+0*.414)\n",
    "\n",
    "# Combo 3: CAT.B2 principale\n",
    "N23max = (27.45+2*15+33.375+26.25+10.80+9.60+21.60+36)+(8.52+13.86+31.19+46.20 + 165.20)+(0*7.23+0*1.5+.3*6+.5*20.25+.6*40+0*.414)\n",
    "\n",
    "# Combo 4: CAT.A principale\n",
    "N24max = (27.45+2*15+33.375+26.25+10.80+9.60+21.60+36)+(8.52+13.86+31.19+46.20 + 165.20)+(0*7.23+0*1.5+.5*6+.3*20.25+.6*40+0*.414)\n",
    "\n",
    "# Combo 5: CAT.H principale\n",
    "N25max = (27.45+2*15+33.375+26.25+10.80+9.60+21.60+36)+(8.52+13.86+31.19+46.20 + 165.20)+(0*7.23+0*1.5+.3*6+.3*20.25+.6*40+0*.414)\n",
    "\n",
    "# Combo 6: Vento principale\n",
    "N26max = (27.45+2*15+33.375+26.25+10.80+9.60+21.60+36)+(8.52+13.86+31.19+46.20 + 165.20)+(0*7.23+0*1.5+.3*6+.3*20.25+.6*40+.2*.414)\n",
    "\n",
    "\n",
    "\n",
    "\n",
    "print(N21max, N22max, N23max, N24max, N25max, N26max)\n"
   ]
  },
  {
   "cell_type": "markdown",
   "metadata": {},
   "source": [
    "### SLE QUASI PERMANENTE"
   ]
  },
  {
   "cell_type": "code",
   "execution_count": 33,
   "metadata": {},
   "outputs": [
    {
     "data": {
      "text/plain": [
       "491.92"
      ]
     },
     "execution_count": 33,
     "metadata": {},
     "output_type": "execute_result"
    }
   ],
   "source": [
    "N2 = (27.45+2*15+33.375+26.25+10.80+9.60+21.60+36)+(8.52+13.86+31.19+46.20 + 165.20)+(0*7.23+0*1.5+.3*6+.3*20.25+.6*40+0*.414)\n",
    "N2"
   ]
  }
 ],
 "metadata": {
  "kernelspec": {
   "display_name": "Python 3",
   "language": "python",
   "name": "python3"
  },
  "language_info": {
   "codemirror_mode": {
    "name": "ipython",
    "version": 3
   },
   "file_extension": ".py",
   "mimetype": "text/x-python",
   "name": "python",
   "nbconvert_exporter": "python",
   "pygments_lexer": "ipython3",
   "version": "3.7.5"
  }
 },
 "nbformat": 4,
 "nbformat_minor": 4
}
