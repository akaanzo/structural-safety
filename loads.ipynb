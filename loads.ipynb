{
 "cells": [
  {
   "cell_type": "markdown",
   "metadata": {},
   "source": [
    "# Analysis of the loads acting on the building\n",
    "## *Matteo Franzoi* - Academic Year 2019/2020\n",
    "### matricola 166788 (triennale)\n",
    "---"
   ]
  },
  {
   "cell_type": "code",
   "execution_count": 25,
   "metadata": {},
   "outputs": [],
   "source": [
    "from engineering_notation import EngNumber\n",
    "import math\n",
    "import numpy as np\n",
    "from decimal import Decimal"
   ]
  },
  {
   "cell_type": "markdown",
   "metadata": {},
   "source": [
    "---\n",
    "#### Snow Load"
   ]
  },
  {
   "cell_type": "code",
   "execution_count": 27,
   "metadata": {},
   "outputs": [
    {
     "name": "stdout",
     "output_type": "stream",
     "text": [
      "3.0185626735901456 kN/m^2\n",
      "~=\n",
      "3.02 kN/m^2\n"
     ]
    }
   ],
   "source": [
    "qsk = 1.39*(1+(788/728)**2);\n",
    "print(qsk, 'kN/m^2\\n~=')\n",
    "qsk = EngNumber(qsk, precision=2)\n",
    "print(qsk, 'kN/m^2')"
   ]
  },
  {
   "cell_type": "code",
   "execution_count": 28,
   "metadata": {},
   "outputs": [],
   "source": [
    "#Copertura piana\n",
    "mu_1 = .8;\n",
    "#Non diversamente indicato\n",
    "C_E = 1;\n",
    "#Cautelativamente (no info)\n",
    "C_t = 1;"
   ]
  },
  {
   "cell_type": "code",
   "execution_count": 29,
   "metadata": {},
   "outputs": [
    {
     "name": "stdout",
     "output_type": "stream",
     "text": [
      "2.41 kN/m^2\n"
     ]
    }
   ],
   "source": [
    "def qs(qsk, mu, CE, Ct):\n",
    "    return qsk * mu * CE * Ct\n",
    "\n",
    "qs1 = qs(qsk, mu_1, C_E, C_t);\n",
    "qs1 = EngNumber(qs1, precision=2)\n",
    "print(qs1, 'kN/m^2')"
   ]
  },
  {
   "cell_type": "code",
   "execution_count": 31,
   "metadata": {},
   "outputs": [
    {
     "data": {
      "text/plain": [
       "3.87"
      ]
     },
     "execution_count": 31,
     "metadata": {},
     "output_type": "execute_result"
    }
   ],
   "source": [
    "mu_w = (18 + 6)/6.2\n",
    "mu_w < 4.11\n",
    "mu_w = EngNumber(mu_w, precision=2)\n",
    "mu_w"
   ]
  },
  {
   "cell_type": "code",
   "execution_count": 32,
   "metadata": {},
   "outputs": [
    {
     "data": {
      "text/plain": [
       "2.34"
      ]
     },
     "execution_count": 32,
     "metadata": {},
     "output_type": "execute_result"
    }
   ],
   "source": [
    "if 6 < 2*6.2:\n",
    "    mu_2 = (mu_1 + mu_w)/2\n",
    "else:\n",
    "    mu_2 = mu_1 + mu_w/2\n",
    "    \n",
    "mu_2 = EngNumber(mu_2)\n",
    "mu_2"
   ]
  },
  {
   "cell_type": "code",
   "execution_count": 33,
   "metadata": {},
   "outputs": [
    {
     "name": "stdout",
     "output_type": "stream",
     "text": [
      "7.06 kN/m^2\n"
     ]
    }
   ],
   "source": [
    "qs2 = qs(qsk, mu_2, C_E, C_t);\n",
    "\n",
    "qs2 = EngNumber(qs2, precision=2)\n",
    "\n",
    "print(qs2, 'kN/m^2')"
   ]
  },
  {
   "cell_type": "code",
   "execution_count": 34,
   "metadata": {},
   "outputs": [
    {
     "data": {
      "text/plain": [
       "7.06"
      ]
     },
     "execution_count": 34,
     "metadata": {},
     "output_type": "execute_result"
    }
   ],
   "source": [
    "qs = max(qs1, qs2)\n",
    "qs"
   ]
  },
  {
   "cell_type": "markdown",
   "metadata": {},
   "source": [
    "---\n",
    "#### Wind Load"
   ]
  },
  {
   "cell_type": "code",
   "execution_count": 35,
   "metadata": {},
   "outputs": [
    {
     "data": {
      "text/plain": [
       "390.625"
      ]
     },
     "execution_count": 35,
     "metadata": {},
     "output_type": "execute_result"
    }
   ],
   "source": [
    "q_cin = 1/2 * 1.25 * 25**2\n",
    "q_cin"
   ]
  },
  {
   "cell_type": "code",
   "execution_count": 36,
   "metadata": {},
   "outputs": [
    {
     "data": {
      "text/plain": [
       "1.76"
      ]
     },
     "execution_count": 36,
     "metadata": {},
     "output_type": "execute_result"
    }
   ],
   "source": [
    "def ce(z, kr, ct, zmin):\n",
    "    return kr**2 *ct*math.log(z/zmin)*(7+ct*math.log(z/zmin))\n",
    "    \n",
    "c_e = EngNumber(ce(9.7, .22, 1, .3), precision=2);\n",
    "c_e"
   ]
  },
  {
   "cell_type": "code",
   "execution_count": 37,
   "metadata": {},
   "outputs": [
    {
     "name": "stdout",
     "output_type": "stream",
     "text": [
      "0.138 kN/m^2\n"
     ]
    }
   ],
   "source": [
    "c_p=.2;\n",
    "c_d=1;\n",
    "\n",
    "p = q_cin * c_e*c_p*c_d;\n",
    "p = float(p/1000)\n",
    "p = round(p,3)\n",
    "print(p, 'kN/m^2')"
   ]
  },
  {
   "cell_type": "code",
   "execution_count": 51,
   "metadata": {},
   "outputs": [],
   "source": [
    "#-------------------\n",
    "# TRAVE P13 - P16\n",
    "\n",
    "# COMBO 1: NEVE PRINCIPALE\n",
    "Q11max_slu = 1.3*(8+11.52 + 3.75) + 1.5*(11.55+7.98 + 9.2) + 1.5*(25.42) + 1.5*.7*(7.5+14.4) + 1.5*.6*.5\n",
    "Q11min_slu = 1*(8+11.52 + 3.75) + .8*(11.55+7.98 + 9.2)\n",
    "\n",
    "# COMBO 2: CAT. B (TERRAZZO) PRINCIPALE\n",
    "Q12max_slu = 1.3*(8+11.52 + 3.75) + 1.5*(11.55+7.98 + 9.2) + 1.5*0.5*8.68 + 1.5*.7*(7.5) + 1.5*(14.4) + 1.5*.6*.3\n",
    "Q12min_slu = 1*(8+11.52 + 3.75) + .8*(11.55+7.98 + 9.2)\n",
    "\n",
    "# COMBO 3: CAT. B2 (INTERNO) PRINCIPALE\n",
    "Q13max_slu = 1.3*(8+11.52 + 3.75) + 1.5*(11.55+7.98 + 9.2) + 1.5*0.5*8.68 + 1.5*.7*14.4 + 1.5*7.5 + 1.5*.6*.3\n",
    "Q13min_slu = 1*(8+11.52 + 3.75) + .8*(11.55+7.98 + 9.2)\n",
    "\n",
    "#-------------------\n",
    "# TRAVE P16 - P17\n",
    "\n",
    "# COMBO 1: NEVE PRINCIPALE\n",
    "Q21max_slu = 1.3*(8+6.72 + 3.75) + 1.5*(11.55+4.65 + 9.2) + 1.5*(14.83) + 1.5*.7*(7.5+8.4) + 1.5*.6*.3\n",
    "Q21min_slu = 1*(8+6.72 + 3.75) + .8*(11.55+4.65 + 9.2)\n",
    "\n",
    "# COMBO 2: CAT. B (TERRAZZO) PRINCIPALE\n",
    "Q22max_slu = 1.3*(8+6.72 + 3.75) + 1.5*(11.55+4.65 + 9.2) + 1.5*.5*(5.06) + 1.5*.7*(7.5) + 1.5*(8.4) + 1.5*.6*.3\n",
    "Q22min_slu = 1*(8+6.72 + 3.75) + .8*(11.55+4.65 + 9.2)\n",
    "\n",
    "# COMBO 3: CAT. B2 (INTERNO) PRINCIPALE\n",
    "Q23max_slu = 1.3*(8+6.72 + 3.75) + 1.5*(11.55+4.65 + 9.2) + 1.5*.5*(5.06) + 1.5*(7.5) + 1.5*.7*(8.4) + 1.5*.6*.3\n",
    "Q23min_slu = 1*(8+6.72 + 3.75) + .8*(11.55+4.65 + 9.2)\n",
    "\n",
    "#-------------------\n",
    "# TRAVE P17 - VANO SCALA\n",
    "\n",
    "# COMBO 1: NEVE PRINCIPALE\n",
    "Q31max_slu = 1.3*(8+3.2 + 3.75) + 1.5*(11.55+2.215 + 9.2) + 1.5*(7.06) + 1.5*.7*(7.5+4) + 1.5*.6*.138\n",
    "Q31min_slu = 1*(8+3.2 + 3.75) + .8*(11.55+2.215 + 9.2)\n",
    "\n",
    "# COMBO 2: CAT. B (TERRAZZO) PRINCIPALE\n",
    "Q32max_slu = 1.3*(8+3.2 + 3.75) + 1.5*(11.55+2.215 + 9.2) + 1.5*.5*(2.41) + 1.5*.7*(7.5)+ 1.5*(4) + 1.5*.6*.138\n",
    "Q32min_slu = 1*(8+3.2 + 3.75) + .8*(11.55+2.215 + 9.2)\n",
    "\n",
    "# COMBO 3: CAT. B2 (INTERNO) PRINCIPALE\n",
    "Q33max_slu = 1.3*(8+3.2 + 3.75) + 1.5*(11.55+2.215 + 9.2) + 1.5*.5*(2.41) + 1.5*(7.5)+ 1.5*.7*(4) + 1.5*.6*.138\n",
    "Q33min_slu = 1*(8+3.2 + 3.75) + .8*(11.55+2.215 + 9.2)\n",
    "\n",
    "\n",
    "Q1max_slu = EngNumber(Q11max_slu, precision=2)\n",
    "Q1min_slu = EngNumber(Q11min_slu, precision=2)\n",
    "\n",
    "Q2max_slu = EngNumber(Q21max_slu, precision=2)\n",
    "Q2min_slu = EngNumber(Q21min_slu, precision=1)\n",
    "\n",
    "Q3max_slu = EngNumber(Q31max_slu, precision=2)\n",
    "Q3min_slu = EngNumber(Q31min_slu, precision=2)"
   ]
  },
  {
   "cell_type": "markdown",
   "metadata": {},
   "source": [
    "---\n",
    "## SLE RARA"
   ]
  },
  {
   "cell_type": "markdown",
   "metadata": {},
   "source": [
    "### P13 - P16"
   ]
  },
  {
   "cell_type": "code",
   "execution_count": 13,
   "metadata": {},
   "outputs": [],
   "source": [
    "# NEVE PRINCIPALE\n",
    "Q1max_sle_rara = 8+11.52+3.75 + 11.55+7.98+9.2 + 25.42 + .7*(7.5+14.4) + .6*.5"
   ]
  },
  {
   "cell_type": "code",
   "execution_count": 39,
   "metadata": {},
   "outputs": [],
   "source": [
    "# CAT. B2 SOLAIO INTERNO\n",
    "Q1min_sle_rara = 8+11.52+3.75 + 11.55+7.98+9.2 + .5*8.6 + .7*(14.4) + .6*.5 + 7.5"
   ]
  },
  {
   "cell_type": "code",
   "execution_count": 40,
   "metadata": {},
   "outputs": [
    {
     "data": {
      "text/plain": [
       "76.25"
      ]
     },
     "execution_count": 40,
     "metadata": {},
     "output_type": "execute_result"
    }
   ],
   "source": [
    "# CAT. B TERRAZZO\n",
    "8+11.52+3.75 + 11.55+7.98+9.2 + .5*8.6 + .7*(7.5) + .6*.5 +14.4"
   ]
  },
  {
   "cell_type": "markdown",
   "metadata": {},
   "source": [
    "### P16 - P17"
   ]
  },
  {
   "cell_type": "code",
   "execution_count": 41,
   "metadata": {},
   "outputs": [
    {
     "data": {
      "text/plain": [
       "70.01"
      ]
     },
     "execution_count": 41,
     "metadata": {},
     "output_type": "execute_result"
    }
   ],
   "source": [
    "# NEVE PRINCIPALE\n",
    "Q2max_sle_rara = 8+6.72+3.75 + 11.55+4.65+9.20 + 14.83 + .7*(7.5+8.4) + .6*.3\n",
    "Q2max_sle_rara"
   ]
  },
  {
   "cell_type": "code",
   "execution_count": 42,
   "metadata": {},
   "outputs": [],
   "source": [
    "# CAT. B2 SOLAIO INTERNO\n",
    "Q2min_sle_rara = 8+6.72+3.75 + 11.55+4.65+9.20 + .5*5.06 + .7*(8.4) + .6*.3+7.5"
   ]
  },
  {
   "cell_type": "code",
   "execution_count": 43,
   "metadata": {},
   "outputs": [
    {
     "data": {
      "text/plain": [
       "60.230000000000004"
      ]
     },
     "execution_count": 43,
     "metadata": {},
     "output_type": "execute_result"
    }
   ],
   "source": [
    "# CAT. B2 SOLAIO INTERNO\n",
    "8+6.72+3.75 + 11.55+4.65+9.20 + .5*5.06 + .7*(7.5) + .6*.3+8.4"
   ]
  },
  {
   "cell_type": "markdown",
   "metadata": {},
   "source": [
    "### P17 - VANO SCALA"
   ]
  },
  {
   "cell_type": "code",
   "execution_count": 44,
   "metadata": {},
   "outputs": [],
   "source": [
    "# NEVE PRINCIPALE\n",
    "Q3max_sle_rara = 8+3.2+3.75 + 11.55+2.215+9.20 + 7.06 + .7*(7.5+4) + .6*.138"
   ]
  },
  {
   "cell_type": "code",
   "execution_count": 45,
   "metadata": {},
   "outputs": [],
   "source": [
    "# CAT. B2 SOLAIO INTERNO\n",
    "Q3min_sle_rara = 8+3.2+3.75 + 11.55+2.215+9.20 + .5*2.41 + .7*(4) + .6*.138 + 7.5"
   ]
  },
  {
   "cell_type": "code",
   "execution_count": 46,
   "metadata": {},
   "outputs": [
    {
     "data": {
      "text/plain": [
       "48.452799999999996"
      ]
     },
     "execution_count": 46,
     "metadata": {},
     "output_type": "execute_result"
    }
   ],
   "source": [
    "# CAT. B2 SOLAIO INTERNO\n",
    "8+3.2+3.75 + 11.55+2.215+9.20 +.5* 2.41 + .7*(7.5) + .6*.138+4"
   ]
  },
  {
   "cell_type": "markdown",
   "metadata": {},
   "source": [
    "---\n",
    "## SLE FREQUENTE"
   ]
  },
  {
   "cell_type": "markdown",
   "metadata": {},
   "source": [
    "### P13 - P16"
   ]
  },
  {
   "cell_type": "code",
   "execution_count": 73,
   "metadata": {},
   "outputs": [
    {
     "name": "stdout",
     "output_type": "stream",
     "text": [
      "63.654 61.45 60.07\n"
     ]
    },
    {
     "data": {
      "text/plain": [
       "60.07"
      ]
     },
     "execution_count": 73,
     "metadata": {},
     "output_type": "execute_result"
    }
   ],
   "source": [
    "# COMBO 1: NEVE PRINCIPALE\n",
    "Q11_sle_freq = 8+11.52+3.75 + 11.55+7.98+9.2 + .2*25.42 + .3*(7.5+14.4) + .0*.5\n",
    "# COMBO 2: CAT B (TERRAZZO) PRINCIPALE\n",
    "Q12_sle_freq = 8+11.52+3.75 + 11.55+7.98+9.2 + 0*25.42 + .3*(7.5)+ .5*(14.4) + .0*.5\n",
    "# COMBO 3: CAT B2 (SOLAIO INTERNO) PRINCIPALE\n",
    "Q13_sle_freq = 8+11.52+3.75 + 11.55+7.98+9.2 + 0*25.42 + .5*(7.5)+ .3*(14.4) + .0*.5\n",
    "print(Q11_sle_freq, Q12_sle_freq, Q13_sle_freq)\n",
    "\n",
    "Q1max_sle_freq =  8+11.52+3.75 + 11.55+7.98+9.2 + .2*25.42 + .3*(7.5+14.4) + .0*.5\n",
    "Q1min_sle_freq = 8+11.52+3.75 + 11.55+7.98+9.2 + 0*25.42 + .5*(7.5)+ .3*(14.4) + .0*.5"
   ]
  },
  {
   "cell_type": "markdown",
   "metadata": {},
   "source": [
    "### P16 - P17"
   ]
  },
  {
   "cell_type": "code",
   "execution_count": 74,
   "metadata": {},
   "outputs": [
    {
     "name": "stdout",
     "output_type": "stream",
     "text": [
      "51.60600000000001 50.32000000000001 50.14000000000001\n"
     ]
    }
   ],
   "source": [
    "# COMBO 1: NEVE PRINCIPALE\n",
    "Q21_sle_freq = 8+6.72+3.75 + 11.55+4.65+9.20 + .2*14.83 + .3*(7.5+8.4) + .0*.3\n",
    "# COMBO 2: CAT B (TERRAZZO) PRINCIPALE\n",
    "Q22_sle_freq = 8+6.72+3.75 + 11.55+4.65+9.20 + .0*14.83 + .3*(7.5)+.5*(8.4) + .0*.3\n",
    "# COMBO 3: CAT B2 (SOLAIO INTERNO) PRINCIPALE\n",
    "Q23_sle_freq = 8+6.72+3.75 + 11.55+4.65+9.20 + .0*14.83 + .5*(7.5)+.3*(8.4) + .0*.3\n",
    "print(Q21_sle_freq, Q22_sle_freq, Q23_sle_freq)\n",
    "\n",
    "Q2max_sle_freq =  8+6.72+3.75 + 11.55+4.65+9.20 + .2*14.83 + .3*(7.5+8.4) + .0*.3\n",
    "Q2min_sle_freq = 8+6.72+3.75 + 11.55+4.65+9.20 + .0*14.83 + .5*(7.5)+.3*(8.4) + .0*.3"
   ]
  },
  {
   "cell_type": "markdown",
   "metadata": {},
   "source": [
    "### P17 - VANO SCALA"
   ]
  },
  {
   "cell_type": "code",
   "execution_count": 76,
   "metadata": {},
   "outputs": [
    {
     "name": "stdout",
     "output_type": "stream",
     "text": [
      "42.777 42.165 42.865\n"
     ]
    }
   ],
   "source": [
    "# COMBO 1: NEVE PRINCIPALE\n",
    "Q31_sle_freq = 8+3.2+3.75 + 11.55+2.215+9.20 + .2*7.06 + .3*(7.5+4) + .0*.138\n",
    "# COMBO 2: CAT B (TERRAZZO) PRINCIPALE\n",
    "Q32_sle_freq = 8+3.2+3.75 + 11.55+2.215+9.20 + 0*7.06 + .3*(7.5)+.5*(4) + .0*.138\n",
    "# COMBO 3: CAT B2 (SOLAIO INTERNO) PRINCIPALE\n",
    "Q33_sle_freq = 8+3.2+3.75 + 11.55+2.215+9.20 + 0*7.06 + .5*(7.5)+.3*(4) + .0*.138\n",
    "print(Q31_sle_freq, Q32_sle_freq, Q33_sle_freq)\n",
    "\n",
    "Q3max_sle_freq = 8+3.2+3.75 + 11.55+2.215+9.20 + 0*7.06 + .5*(7.5)+.3*(4) + .0*.138\n",
    "Q3min_sle_freq = 8+3.2+3.75 + 11.55+2.215+9.20 + 0*7.06 + .3*(7.5)+.5*(4) + .0*.138"
   ]
  },
  {
   "cell_type": "code",
   "execution_count": 77,
   "metadata": {},
   "outputs": [
    {
     "name": "stdout",
     "output_type": "stream",
     "text": [
      "58.57 48.64 41.365\n"
     ]
    }
   ],
   "source": [
    "Q1_sle_qp = 8+11.52+3.75 + 11.55+7.98+9.2 + 0*25.42 + .3*(7.5+14.4) + .0*.5\n",
    "Q2_sle_qp = 8+6.72+3.75 + 11.55+4.65+9.20 + 0*14.83 + .3*(7.5+8.4) + .0*.3\n",
    "Q3_sle_qp = 8+3.2+3.75 + 11.55+2.215+9.20 + 0*7.06 + .3*(7.5+4) + .0*.138\n",
    "\n",
    "print(Q1_sle_qp, Q2_sle_qp, Q3_sle_qp)\n"
   ]
  },
  {
   "cell_type": "markdown",
   "metadata": {},
   "source": [
    "---\n",
    "## Columns"
   ]
  },
  {
   "cell_type": "code",
   "execution_count": 8,
   "metadata": {},
   "outputs": [
    {
     "name": "stdout",
     "output_type": "stream",
     "text": [
      "1662.8563 808.5544 1672.8402999999998 1664.9067999999997 1647.4602999999997 1643.2302999999997\n"
     ]
    }
   ],
   "source": [
    "# Combo 1: Neve principale\n",
    "N11max = 1.3*(27.45+101.52+90.24+101.536+101.52)+1.5*(80.09+130.284+146.59+130.284)+1.5*(67.96+0*14.1+.7*56.40+.7*95.17+.7*112.80+.6*3.9)\n",
    "N11min = 1.0*(27.45+101.52+90.24+101.536+101.52)+.8*(80.09+130.284+146.59+130.284)+0*(67.96+0*14.1+.7*56.40+.7*95.17+.7*112.80)-1.5*.6*3.9\n",
    "\n",
    "\n",
    "# Combo 2: CAT.D1 principale\n",
    "N12max = 1.3*(27.45+101.52+90.24+101.536+101.52)+1.5*(80.09+130.284+146.59+130.284)+1.5*(.6*67.96+0*14.1+.7*56.40+.7*95.17+112.80+.6*3.9)\n",
    "\n",
    "# Combo 3: CAT.B2 principale\n",
    "N13max = 1.3*(27.45+101.52+90.24+101.536+101.52)+1.5*(80.09+130.284+146.59+130.284)+1.5*(.6*67.96+0*14.1+.7*56.40+95.17+.7*112.80+.6*3.9)\n",
    "\n",
    "# Combo 4: CAT.A principale\n",
    "N14max = 1.3*(27.45+101.52+90.24+101.536+101.52)+1.5*(80.09+130.284+146.59+130.284)+1.5*(.6*67.96+0*14.1+56.40+.7*95.17+.7*112.80+.6*3.9)\n",
    "\n",
    "# Combo 5: CAT.H principale\n",
    "N15max = 1.3*(27.45+101.52+90.24+101.536+101.52)+1.5*(80.09+130.284+146.59+130.284)+1.5*(.6*67.96+14.1+.7*56.40+.7*95.17+.7*112.80+.6*3.9)\n",
    "\n",
    "\n",
    "\n",
    "print(N11max, N11min, N12max, N13max, N14max, N15max)"
   ]
  },
  {
   "cell_type": "code",
   "execution_count": null,
   "metadata": {},
   "outputs": [],
   "source": []
  }
 ],
 "metadata": {
  "kernelspec": {
   "display_name": "Python 3",
   "language": "python",
   "name": "python3"
  },
  "language_info": {
   "codemirror_mode": {
    "name": "ipython",
    "version": 3
   },
   "file_extension": ".py",
   "mimetype": "text/x-python",
   "name": "python",
   "nbconvert_exporter": "python",
   "pygments_lexer": "ipython3",
   "version": "3.6.9"
  }
 },
 "nbformat": 4,
 "nbformat_minor": 4
}
