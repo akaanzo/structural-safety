{
 "cells": [
  {
   "cell_type": "markdown",
   "metadata": {},
   "source": [
    "# Analysis of the loads acting on the building\n",
    "## *Matteo Franzoi* - Academic Year 2019/2020\n",
    "### matricola 166788 (triennale)\n",
    "---"
   ]
  },
  {
   "cell_type": "code",
   "execution_count": 3,
   "metadata": {},
   "outputs": [],
   "source": [
    "from engineering_notation import EngNumber\n",
    "import math\n",
    "import numpy as np\n",
    "from decimal import Decimal"
   ]
  },
  {
   "cell_type": "markdown",
   "metadata": {},
   "source": [
    "---\n",
    "#### Snow Load"
   ]
  },
  {
   "cell_type": "code",
   "execution_count": 4,
   "metadata": {},
   "outputs": [
    {
     "name": "stdout",
     "output_type": "stream",
     "text": [
      "3.0185626735901456 kN/m^2\n",
      "~=\n",
      "3.02 kN/m^2\n"
     ]
    }
   ],
   "source": [
    "qsk = 1.39*(1+(788/728)**2);\n",
    "print(qsk, 'kN/m^2\\n~=')\n",
    "qsk = EngNumber(qsk, precision=2)\n",
    "print(qsk, 'kN/m^2')"
   ]
  },
  {
   "cell_type": "code",
   "execution_count": 5,
   "metadata": {},
   "outputs": [],
   "source": [
    "#Copertura piana\n",
    "mu_1 = .8;\n",
    "#Non diversamente indicato\n",
    "C_E = 1;\n",
    "#Cautelativamente (no info)\n",
    "C_t = 1;"
   ]
  },
  {
   "cell_type": "code",
   "execution_count": 6,
   "metadata": {},
   "outputs": [
    {
     "name": "stdout",
     "output_type": "stream",
     "text": [
      "2.41 kN/m^2\n"
     ]
    }
   ],
   "source": [
    "def qs(qsk, mu, CE, Ct):\n",
    "    return qsk * mu * CE * Ct\n",
    "\n",
    "qs1 = qs(qsk, mu_1, C_E, C_t);\n",
    "qs1 = EngNumber(qs1, precision=2)\n",
    "print(qs1, 'kN/m^2')"
   ]
  },
  {
   "cell_type": "code",
   "execution_count": 7,
   "metadata": {},
   "outputs": [
    {
     "data": {
      "text/plain": [
       "1.94"
      ]
     },
     "execution_count": 7,
     "metadata": {},
     "output_type": "execute_result"
    }
   ],
   "source": [
    "mu_w = (18 + 6)/12.4\n",
    "mu_w < 4.11\n",
    "mu_w = EngNumber(mu_w, precision=2)\n",
    "mu_w"
   ]
  },
  {
   "cell_type": "code",
   "execution_count": 8,
   "metadata": {},
   "outputs": [
    {
     "data": {
      "text/plain": [
       "1.37"
      ]
     },
     "execution_count": 8,
     "metadata": {},
     "output_type": "execute_result"
    }
   ],
   "source": [
    "if 6 < 2*6.2:\n",
    "    mu_2 = (mu_1 + mu_w)/2\n",
    "else:\n",
    "    mu_2 = mu_1 + mu_w/2\n",
    "    \n",
    "mu_2 = EngNumber(mu_2)\n",
    "mu_2"
   ]
  },
  {
   "cell_type": "code",
   "execution_count": 9,
   "metadata": {},
   "outputs": [
    {
     "name": "stdout",
     "output_type": "stream",
     "text": [
      "4.14 kN/m^2\n"
     ]
    }
   ],
   "source": [
    "qs2 = qs(qsk, mu_2, C_E, C_t);\n",
    "\n",
    "qs2 = EngNumber(qs2, precision=2)\n",
    "\n",
    "print(qs2, 'kN/m^2')"
   ]
  },
  {
   "cell_type": "code",
   "execution_count": 10,
   "metadata": {},
   "outputs": [
    {
     "data": {
      "text/plain": [
       "4.14"
      ]
     },
     "execution_count": 10,
     "metadata": {},
     "output_type": "execute_result"
    }
   ],
   "source": [
    "qs = max(qs1, qs2)\n",
    "qs"
   ]
  },
  {
   "cell_type": "markdown",
   "metadata": {},
   "source": [
    "---\n",
    "#### Wind Load"
   ]
  },
  {
   "cell_type": "code",
   "execution_count": 11,
   "metadata": {},
   "outputs": [
    {
     "data": {
      "text/plain": [
       "390.625"
      ]
     },
     "execution_count": 11,
     "metadata": {},
     "output_type": "execute_result"
    }
   ],
   "source": [
    "q_cin = 1/2 * 1.25 * 25**2\n",
    "q_cin"
   ]
  },
  {
   "cell_type": "code",
   "execution_count": 12,
   "metadata": {},
   "outputs": [
    {
     "data": {
      "text/plain": [
       "1.76"
      ]
     },
     "execution_count": 12,
     "metadata": {},
     "output_type": "execute_result"
    }
   ],
   "source": [
    "def ce(z, kr, ct, zmin):\n",
    "    return kr**2 *ct*math.log(z/zmin)*(7+ct*math.log(z/zmin))\n",
    "    \n",
    "c_e = EngNumber(ce(9.7, .22, 1, .3), precision=2);\n",
    "c_e"
   ]
  },
  {
   "cell_type": "code",
   "execution_count": 13,
   "metadata": {},
   "outputs": [
    {
     "name": "stdout",
     "output_type": "stream",
     "text": [
      "0.138 kN/m^2\n"
     ]
    }
   ],
   "source": [
    "c_p=.2;\n",
    "c_d=1;\n",
    "\n",
    "p = q_cin * c_e*c_p*c_d;\n",
    "p = float(p/1000)\n",
    "p = round(p,3)\n",
    "print(p, 'kN/m^2')"
   ]
  },
  {
   "cell_type": "markdown",
   "metadata": {},
   "source": [
    "---\n",
    "## SLU"
   ]
  },
  {
   "cell_type": "code",
   "execution_count": 16,
   "metadata": {},
   "outputs": [
    {
     "data": {
      "text/plain": [
       "60.790699999999994"
      ]
     },
     "execution_count": 16,
     "metadata": {},
     "output_type": "execute_result"
    }
   ],
   "source": [
    "#-------------------\n",
    "# TRAVE P13 - P16\n",
    "\n",
    "# COMBO 1: NEVE PRINCIPALE\n",
    "Q11max_slu = 1.3*(8+11.52 + 3.75) + 1.5*(11.55+7.98 + 9.2) + 1.5*(15.01) + 1.5*.7*(7.5+14.40) + 1.5*.6*.5\n",
    "Q11min_slu = 1*(8+11.52 + 3.75) + .8*(11.55+7.98 + 9.2)\n",
    "\n",
    "# COMBO 2: CAT. B (TERRAZZO) PRINCIPALE\n",
    "Q12max_slu = 1.3*(8+11.52 + 3.75) + 1.5*(11.55+7.98 + 9.2) + 1.5*0.5*15.01 + 1.5*.7*(7.5) + 1.5*(14.40) + 1.5*.6*.3\n",
    "Q12min_slu = 1*(8+11.52 + 3.75) + .8*(11.55+7.98 + 9.2)\n",
    "\n",
    "# COMBO 3: CAT. B2 (INTERNO) PRINCIPALE\n",
    "Q13max_slu = 1.3*(8+11.52 + 3.75) + 1.5*(11.55+7.98 + 9.2) + 1.5*0.5*15.01 + 1.5*.7*14.40 + 1.5*7.5 + 1.5*.6*.3\n",
    "Q13min_slu = 1*(8+11.52 + 3.75) + .8*(11.55+7.98 + 9.2)\n",
    "\n",
    "#-------------------\n",
    "# TRAVE P16 - P17\n",
    "\n",
    "# COMBO 1: NEVE PRINCIPALE\n",
    "Q21max_slu = 1.3*(8+6.72 + 3.75) + 1.5*(11.55+4.65 + 9.2) + 1.5*(10.30) + 1.5*.7*(7.5+8.4) + 1.5*.6*.3\n",
    "Q21min_slu = 1*(8+6.72 + 3.75) + .8*(11.55+4.65 + 9.2)\n",
    "\n",
    "# COMBO 2: CAT. B (TERRAZZO) PRINCIPALE\n",
    "Q22max_slu = 1.3*(8+6.72 + 3.75) + 1.5*(11.55+4.65 + 9.2) + 1.5*.5*(10.30) + 1.5*.7*(7.5) + 1.5*(8.4) + 1.5*.6*.3\n",
    "Q22min_slu = 1*(8+6.72 + 3.75) + .8*(11.55+4.65 + 9.2)\n",
    "\n",
    "# COMBO 3: CAT. B2 (INTERNO) PRINCIPALE\n",
    "Q23max_slu = 1.3*(8+6.72 + 3.75) + 1.5*(11.55+4.65 + 9.2) + 1.5*.5*(10.30) + 1.5*(7.5) + 1.5*.7*(8.4) + 1.5*.6*.3\n",
    "Q23min_slu = 1*(8+6.72 + 3.75) + .8*(11.55+4.65 + 9.2)\n",
    "\n",
    "#-------------------\n",
    "# TRAVE P17 - VANO SCALA\n",
    "\n",
    "# COMBO 1: NEVE PRINCIPALE\n",
    "Q31max_slu = 1.3*(6+3.2 + 3.75) + 1.5*(8.66+2.215 + 9.2) + 1.5*(4.17) + 1.5*.7*(5.63+4) + 1.5*.6*.138\n",
    "Q31min_slu = 1*(6+3.2 + 3.75) + .8*(8.66+2.215 + 9.2)\n",
    "\n",
    "# COMBO 2: CAT. B (TERRAZZO) PRINCIPALE\n",
    "Q32max_slu = 1.3*(6+3.2 + 3.75) + 1.5*(8.66+2.215 + 9.2) + 1.5*.5*(2.41) + 1.5*.7*(5.63)+ 1.5*(4) + 1.5*.6*.138\n",
    "Q32min_slu = 1*(6+3.2 + 3.75) + .8*(8.66+2.215 + 9.2)\n",
    "\n",
    "# COMBO 3: CAT. B2 (INTERNO) PRINCIPALE\n",
    "Q33max_slu = 1.3*(6+3.2 + 3.75) + 1.5*(8.66+2.215 + 9.2) + 1.5*.5*(2.41) + 1.5*(5.63)+ 1.5*.7*(4) + 1.5*.6*.138\n",
    "Q33min_slu = 1*(6+3.2 + 3.75) + .8*(8.66+2.215 + 9.2)\n",
    "\n",
    "\n",
    "Q1max_slu = EngNumber(Q11max_slu, precision=2)\n",
    "Q1min_slu = EngNumber(Q11min_slu, precision=2)\n",
    "\n",
    "Q2max_slu = EngNumber(Q21max_slu, precision=2)\n",
    "Q2min_slu = EngNumber(Q21min_slu, precision=1)\n",
    "\n",
    "Q3max_slu = EngNumber(Q31max_slu, precision=2)\n",
    "Q3min_slu = EngNumber(Q31min_slu, precision=2)\n",
    "\n",
    "Q32max_slu"
   ]
  },
  {
   "cell_type": "markdown",
   "metadata": {},
   "source": [
    "---\n",
    "## SLE RARA"
   ]
  },
  {
   "cell_type": "markdown",
   "metadata": {},
   "source": [
    "### P13 - P16"
   ]
  },
  {
   "cell_type": "code",
   "execution_count": 46,
   "metadata": {},
   "outputs": [],
   "source": [
    "# NEVE PRINCIPALE\n",
    "Q1max_sle_rara = 8+11.52+3.75 + 11.55+7.98+9.2 + 15.01 + .7*(7.5+14.40) + .6*.5"
   ]
  },
  {
   "cell_type": "code",
   "execution_count": 47,
   "metadata": {},
   "outputs": [],
   "source": [
    "# CAT. B2 SOLAIO INTERNO\n",
    "Q1min_sle_rara = 8+11.52+3.75 + 11.55+7.98+9.2 + .5*8.68 + .7*(14.40) + .6*.5 + 7.5"
   ]
  },
  {
   "cell_type": "code",
   "execution_count": 48,
   "metadata": {},
   "outputs": [
    {
     "data": {
      "text/plain": [
       "76.25"
      ]
     },
     "execution_count": 48,
     "metadata": {},
     "output_type": "execute_result"
    }
   ],
   "source": [
    "# CAT. B TERRAZZO\n",
    "8+11.52+3.75 + 11.55+7.98+9.2 + .5*8.6 + .7*(7.5) + .6*.5 +14.40"
   ]
  },
  {
   "cell_type": "markdown",
   "metadata": {},
   "source": [
    "### P16 - P17"
   ]
  },
  {
   "cell_type": "code",
   "execution_count": 49,
   "metadata": {},
   "outputs": [
    {
     "data": {
      "text/plain": [
       "65.48"
      ]
     },
     "execution_count": 49,
     "metadata": {},
     "output_type": "execute_result"
    }
   ],
   "source": [
    "# NEVE PRINCIPALE\n",
    "Q2max_sle_rara = 8+6.72+3.75 + 11.55+4.65+9.20 + 10.30 + .7*(7.5+8.4) + .6*.3\n",
    "Q2max_sle_rara"
   ]
  },
  {
   "cell_type": "code",
   "execution_count": 50,
   "metadata": {},
   "outputs": [
    {
     "data": {
      "text/plain": [
       "59.96000000000001"
      ]
     },
     "execution_count": 50,
     "metadata": {},
     "output_type": "execute_result"
    }
   ],
   "source": [
    "# CAT. B2 SOLAIO INTERNO\n",
    "Q2min_sle_rara = 8+6.72+3.75 + 11.55+4.65+9.20 + .5*5.06 + .7*(8.4) + .6*.3+7.5\n",
    "Q2min_sle_rara"
   ]
  },
  {
   "cell_type": "code",
   "execution_count": 51,
   "metadata": {},
   "outputs": [
    {
     "data": {
      "text/plain": [
       "60.230000000000004"
      ]
     },
     "execution_count": 51,
     "metadata": {},
     "output_type": "execute_result"
    }
   ],
   "source": [
    "# CAT. B2 TERRAZZA\n",
    "8+6.72+3.75 + 11.55+4.65+9.20 + .5*5.06 + .7*(7.5) + .6*.3+8.4"
   ]
  },
  {
   "cell_type": "markdown",
   "metadata": {},
   "source": [
    "### P17 - VANO SCALA"
   ]
  },
  {
   "cell_type": "code",
   "execution_count": 25,
   "metadata": {},
   "outputs": [
    {
     "data": {
      "text/plain": [
       "44.0188"
      ]
     },
     "execution_count": 25,
     "metadata": {},
     "output_type": "execute_result"
    }
   ],
   "source": [
    "# NEVE PRINCIPALE\n",
    "Q3max_sle_rara = 6+3.2+3.75 + 8.66+2.215+9.20 + 4.17 + .7*(5.63+4) + .6*.138\n",
    "Q3max_sle_rara"
   ]
  },
  {
   "cell_type": "code",
   "execution_count": 26,
   "metadata": {},
   "outputs": [
    {
     "data": {
      "text/plain": [
       "41.108999999999995"
      ]
     },
     "execution_count": 26,
     "metadata": {},
     "output_type": "execute_result"
    }
   ],
   "source": [
    "# CAT. B2 SOLAIO INTERNO\n",
    "Q3min_sle_rara = 6+3.2+3.75 + 8.66+2.215+9.20 + .5*2.41 + .7*(4) + .138 + .7*5.63\n",
    "Q3min_sle_rara"
   ]
  },
  {
   "cell_type": "markdown",
   "metadata": {},
   "source": [
    "---\n",
    "## SLE FREQUENTE"
   ]
  },
  {
   "cell_type": "markdown",
   "metadata": {},
   "source": [
    "### P13 - P16"
   ]
  },
  {
   "cell_type": "code",
   "execution_count": 55,
   "metadata": {},
   "outputs": [
    {
     "name": "stdout",
     "output_type": "stream",
     "text": [
      "61.572 61.45 60.07\n"
     ]
    }
   ],
   "source": [
    "# COMBO 1: NEVE PRINCIPALE\n",
    "Q11_sle_freq = 8+11.52+3.75 + 11.55+7.98+9.2 + .2*15.01 + .3*(7.5+14.40) + 0*.5\n",
    "# COMBO 2: CAT B (TERRAZZO) PRINCIPALE\n",
    "Q12_sle_freq = 8+11.52+3.75 + 11.55+7.98+9.2 + 0*15.01 + .3*(7.5)+ .5*(14.40) + .0*.5\n",
    "# COMBO 3: CAT B2 (SOLAIO INTERNO) PRINCIPALE\n",
    "Q13_sle_freq = 8+11.52+3.75 + 11.55+7.98+9.2 + 0*15.01 + .5*(7.5)+ .3*(14.40) + .0*.5\n",
    "print(Q11_sle_freq, Q12_sle_freq, Q13_sle_freq)\n",
    "\n",
    "Q1max_sle_freq =  8+11.52+3.75 + 11.55+7.98+9.2 + .2*15.01 + .3*(7.5+14.40) + .0*.5\n",
    "Q1min_sle_freq = 8+11.52+3.75 + 11.55+7.98+9.2 + 0*15.01 + .5*(7.5)+ .3*(14.40) + .0*.5"
   ]
  },
  {
   "cell_type": "markdown",
   "metadata": {},
   "source": [
    "### P16 - P17"
   ]
  },
  {
   "cell_type": "code",
   "execution_count": 56,
   "metadata": {},
   "outputs": [
    {
     "name": "stdout",
     "output_type": "stream",
     "text": [
      "50.7 50.32000000000001 50.14000000000001\n"
     ]
    }
   ],
   "source": [
    "# COMBO 1: NEVE PRINCIPALE\n",
    "Q21_sle_freq = 8+6.72+3.75 + 11.55+4.65+9.20 + .2*10.30 + .3*(7.5+8.4) + .0*.3\n",
    "# COMBO 2: CAT B (TERRAZZO) PRINCIPALE\n",
    "Q22_sle_freq = 8+6.72+3.75 + 11.55+4.65+9.20 + .0*10.30 + .3*(7.5)+.5*(8.4) + .0*.3\n",
    "# COMBO 3: CAT B2 (SOLAIO INTERNO) PRINCIPALE\n",
    "Q23_sle_freq = 8+6.72+3.75 + 11.55+4.65+9.20 + .0*10.30 + .5*(7.5)+.3*(8.4) + .0*.3\n",
    "print(Q21_sle_freq, Q22_sle_freq, Q23_sle_freq)\n",
    "\n",
    "Q2max_sle_freq =  8+6.72+3.75 + 11.55+4.65+9.20 + .2*10.30 + .3*(7.5+8.4) + .0*.3\n",
    "Q2min_sle_freq = 8+6.72+3.75 + 11.55+4.65+9.20 + .0*10.30 + .5*(7.5)+.3*(8.4) + .0*.3"
   ]
  },
  {
   "cell_type": "markdown",
   "metadata": {},
   "source": [
    "### P17 - VANO SCALA"
   ]
  },
  {
   "cell_type": "code",
   "execution_count": 28,
   "metadata": {},
   "outputs": [
    {
     "name": "stdout",
     "output_type": "stream",
     "text": [
      "36.748000000000005 36.714 37.04\n"
     ]
    }
   ],
   "source": [
    "# COMBO 1: NEVE PRINCIPALE\n",
    "Q31_sle_freq = 6+3.2+3.75 + 8.66+2.215+9.20 + .2*4.17 + .3*(5.63+4) + .0*.138\n",
    "# COMBO 2: CAT B (TERRAZZO) PRINCIPALE\n",
    "Q32_sle_freq = 6+3.2+3.75 + 8.66+2.215+9.20 + 0*4.17 + .3*(5.63)+.5*(4) + .0*.138\n",
    "# COMBO 3: CAT B2 (SOLAIO INTERNO) PRINCIPALE\n",
    "Q33_sle_freq = 6+3.2+3.75 + 8.66+2.215+9.20 + 0*4.17 + .5*(5.63)+.3*(4) + .0*.138\n",
    "print(Q31_sle_freq, Q32_sle_freq, Q33_sle_freq)\n",
    "\n",
    "Q3max_sle_freq = 6+3.2+3.75 + 8.66+2.215+9.20 + 0*4.17 + .5*(5.63)+.3*(4) + .0*.138\n",
    "Q3min_sle_freq = 6+3.2+3.75 + 8.66+2.215+9.20 + 0*4.17 + .3*(5.63)+.5*(4) + .0*.138"
   ]
  },
  {
   "cell_type": "markdown",
   "metadata": {},
   "source": [
    "### SLE QUASI-PERMANENTE"
   ]
  },
  {
   "cell_type": "code",
   "execution_count": 30,
   "metadata": {},
   "outputs": [
    {
     "name": "stdout",
     "output_type": "stream",
     "text": [
      "58.57 48.64 35.914\n"
     ]
    }
   ],
   "source": [
    "Q1_sle_qp = 8+11.52+3.75 + 11.55+7.98+9.2 + 0*15.01 + .3*(7.5+14.40) + .0*.5\n",
    "Q2_sle_qp = 8+6.72+3.75 + 11.55+4.65+9.20 + 0*10.30 + .3*(7.5+8.4) + .0*.3\n",
    "Q3_sle_qp = 6+3.2+3.75 + 8.66+2.215+9.20 + 0*4.17 + .3*(5.63+4) + .0*.138\n",
    "\n",
    "print(Q1_sle_qp, Q2_sle_qp, Q3_sle_qp)\n"
   ]
  },
  {
   "cell_type": "markdown",
   "metadata": {},
   "source": [
    "---\n",
    "## P27\n",
    "### SLU"
   ]
  },
  {
   "cell_type": "code",
   "execution_count": 68,
   "metadata": {},
   "outputs": [
    {
     "name": "stdout",
     "output_type": "stream",
     "text": [
      "1881.8808000000001 1830.9108 886.7112000000001\n"
     ]
    },
    {
     "data": {
      "text/plain": [
       "1881.8808000000001"
      ]
     },
     "execution_count": 68,
     "metadata": {},
     "output_type": "execute_result"
    }
   ],
   "source": [
    "# Combo 1: Neve principale\n",
    "N11max = 1.3*(4*21.15+27.45+101.52+90.24+101.536+99.50)+1.5*(80.09+130.284+146.59+127.68)+1.5*(67.96+0*14.1+56.40+95.17+110.54+.6*3.9)\n",
    "\n",
    "# Combo 2: CAT. principale\n",
    "N12max = 1.3*(4*21.15+27.45+101.52+90.24+101.536+99.50)+1.5*(80.09+130.284+146.59+127.68)+1.5*(.5*67.96+0*14.1+56.40+95.17+110.54+.6*3.9)\n",
    "\n",
    "# Combo 6: Vento principale\n",
    "N1min = 1.0*(4*21.15+27.45+101.52+90.24+101.536+99.50)+.8*(80.09+130.284+146.59+127.68)+0*(67.96+0*14.1+.7*56.40+.7*95.17+.7*110.54)-1.5*3.9\n",
    "\n",
    "\n",
    "\n",
    "\n",
    "print(N11max, N12max, N1min)\n",
    "max(N11max, N12max, N1min)"
   ]
  },
  {
   "cell_type": "markdown",
   "metadata": {},
   "source": [
    "### SLE RARA"
   ]
  },
  {
   "cell_type": "code",
   "execution_count": 60,
   "metadata": {},
   "outputs": [
    {
     "name": "stdout",
     "output_type": "stream",
     "text": [
      "1243.267 1294.716 1217.643\n"
     ]
    }
   ],
   "source": [
    "# Combo 1: Neve principale\n",
    "N11 = (4*21.15+27.45+101.52+90.24+101.536+99.50)+(80.09+130.284+146.59+127.68)+(67.96+0*14.1+.7*56.40+.7*95.17+.7*110.54+.6*3.9)\n",
    "\n",
    "# Combo 2: CAT. principale\n",
    "N12 = (4*21.15+27.45+101.52+90.24+101.536+99.50)+(80.09+130.284+146.59+127.68)+(.6*67.96+0*14.1+56.40+95.17+110.54+.6*3.9)\n",
    "\n",
    "\n",
    "# Combo 3: Vento principale\n",
    "N13 = (4*21.15+27.45+101.52+90.24+101.536+99.50)+(80.09+130.284+146.59+127.68)+(.6*67.96+0*14.1+.7*56.40+.7*95.17+.7*110.54+3.9)\n",
    "\n",
    "\n",
    "print(N11, N12, N13)"
   ]
  },
  {
   "cell_type": "markdown",
   "metadata": {},
   "source": [
    "### SLE FREQUENTE"
   ]
  },
  {
   "cell_type": "code",
   "execution_count": 61,
   "metadata": {},
   "outputs": [
    {
     "name": "stdout",
     "output_type": "stream",
     "text": [
      "1114.877 1142.653 1102.065\n"
     ]
    }
   ],
   "source": [
    "# Combo 1: Neve principale\n",
    "N11 = (4*21.15+27.45+101.52+90.24+101.536+99.50)+(80.09+130.284+146.59+127.68)+(.2*67.96+0*14.1+.3*56.40+.3*95.17+.6*110.54+0*3.9)\n",
    "\n",
    "# Combo 2: CAT. principale\n",
    "N12 = (4*21.15+27.45+101.52+90.24+101.536+99.50)+(80.09+130.284+146.59+127.68)+(0*67.96+0*14.1+.5*56.40+.5*95.17+.7*110.54+0*3.9)\n",
    "\n",
    "# Combo 3: Vento principale\n",
    "N13 = (4*21.15+27.45+101.52+90.24+101.536+99.50)+(80.09+130.284+146.59+127.68)+(0*67.96+0*14.1+.3*56.40+.3*95.17+.6*110.54+0.2*3.9)\n",
    "\n",
    "\n",
    "print(N11, N12, N13)"
   ]
  },
  {
   "cell_type": "markdown",
   "metadata": {},
   "source": [
    "### SLE QUASI PERMANENTE"
   ]
  },
  {
   "cell_type": "code",
   "execution_count": 62,
   "metadata": {},
   "outputs": [
    {
     "data": {
      "text/plain": [
       "1101.285"
      ]
     },
     "execution_count": 62,
     "metadata": {},
     "output_type": "execute_result"
    }
   ],
   "source": [
    "N1 = (4*21.15+27.45+101.52+90.24+101.536+99.50)+(80.09+130.284+146.59+127.68)+(0*67.96+0*14.1+.3*56.40+.3*95.17+.6*110.54+0*3.9)\n",
    "N1"
   ]
  },
  {
   "cell_type": "markdown",
   "metadata": {},
   "source": [
    "---\n",
    "## P36\n",
    "### SLU"
   ]
  },
  {
   "cell_type": "code",
   "execution_count": 63,
   "metadata": {},
   "outputs": [
    {
     "name": "stdout",
     "output_type": "stream",
     "text": [
      "1050.2721 454.73400000000004 1026.3246\n"
     ]
    }
   ],
   "source": [
    "# Combo 1: Neve principale\n",
    "N21max = 1.3*(27.45 + 15+10.8 + 15+9.60 + 33.375+9.60+52.80 +64.8+26.25)+1.5*(8.52+13.86+41.92+13.86+36.55+40.48+83.16)+1.5*(7.23+0*1.5+.6*.414+.7*6+.7*9+.7*66+116.50+.6*2.28+.7*72)\n",
    "\n",
    "# Combo 2: CAT. principale\n",
    "N22max = 1.3*(27.45 + 15+10.8 + 15+9.60 + 33.375+9.60+52.80+64.8+26.25)+1.5*(8.52+13.86+41.92+13.86+36.55+40.48+83.16)+1.5*(.5*7.23+0*1.5+.6*.414+6+9+66+.5*116.50+.6*2.28+72)\n",
    "\n",
    "# Combo 3: Vento principale\n",
    "N2min = 1*(27.45 + 15+10.8 + 15+9.60 + 33.375+9.60+52.80+64.8+26.25)+.8*(8.52+13.86+41.92+13.86+36.55+40.48+83.16)+0*(.5*7.23+0*1.5+.7*6+.7*9+.7*66+.5*116.50+.6*2.28+72+.6*.414)-1.5*.414\n",
    "\n",
    "\n",
    "\n",
    "\n",
    "print(N21max, N2min, N22max)"
   ]
  },
  {
   "cell_type": "markdown",
   "metadata": {},
   "source": [
    "### SLE RARA"
   ]
  },
  {
   "cell_type": "code",
   "execution_count": 64,
   "metadata": {},
   "outputs": [
    {
     "name": "stdout",
     "output_type": "stream",
     "text": [
      "735.4714 454.73400000000004 719.5064\n"
     ]
    }
   ],
   "source": [
    "# Combo 1: Neve principale\n",
    "N21max = (27.45 + 15+10.8 + 15+9.60 + 33.375+9.60+52.80 +64.8+26.25)+(8.52+13.86+41.92+13.86+36.55+40.48+83.16)+(7.23+0*1.5+.6*.414+.7*6+.7*9+.7*66+116.50+.6*2.28+.7*72)\n",
    "\n",
    "# Combo 2: CAT. principale\n",
    "N22max = (27.45 + 15+10.8 + 15+9.60 + 33.375+9.60+52.80+64.8+26.25)+(8.52+13.86+41.92+13.86+36.55+40.48+83.16)+(.5*7.23+0*1.5+.6*.414+6+9+66+.5*116.50+.6*2.28+72)\n",
    "\n",
    "# Combo 3: Vento principale\n",
    "N23max = (27.45 + 15+10.8 + 15+9.60 + 33.375+9.60+52.80+64.8+26.25)+(8.52+13.86+41.92+13.86+36.55+40.48+83.16)+(.5*7.23+0*1.5+.414+.7*6+.7*9+.7*66+.5*116.50+2.28+.7*72)\n",
    "\n",
    "\n",
    "\n",
    "print(N21max, N2min, N22max)"
   ]
  },
  {
   "cell_type": "markdown",
   "metadata": {},
   "source": [
    "### SLE FREQUENTE"
   ]
  },
  {
   "cell_type": "code",
   "execution_count": 65,
   "metadata": {},
   "outputs": [
    {
     "name": "stdout",
     "output_type": "stream",
     "text": [
      "595.271 593.925 571.0638\n"
     ]
    }
   ],
   "source": [
    "# Combo 1: Neve principale\n",
    "N21max = (27.45 + 15+10.8 + 15+9.60 + 33.375+9.60+52.80 +64.8+26.25)+(8.52+13.86+41.92+13.86+36.55+40.48+83.16)+(.2*7.23+0*1.5+0*.414+.3*6+.3*9+.3*66+.2*116.50+0*2.28+.6*72)\n",
    "\n",
    "# Combo 2: CAT. principale\n",
    "N22max = (27.45 + 15+10.8 + 15+9.60 + 33.375+9.60+52.80 +64.8+26.25)+(8.52+13.86+41.92+13.86+36.55+40.48+83.16)+(0*7.23+0*1.5+0*.414+.5*6+.5*9+.5*66+0*116.50+0*2.28+.7*72)\n",
    "\n",
    "# Combo 3: Vento principale\n",
    "N23max = (27.45 + 15+10.8 + 15+9.60 + 33.375+9.60+52.80 +64.8+26.25)+(8.52+13.86+41.92+13.86+36.55+40.48+83.16)+(0*7.23+0*1.5+.2*.414+.3*6+.3*9+.3*66+0*116.50+.2*2.28+.6*72)\n",
    "\n",
    "print(N21max, N22max, N23max)"
   ]
  },
  {
   "cell_type": "markdown",
   "metadata": {},
   "source": [
    "### SLE QUASI PERMANENTE"
   ]
  },
  {
   "cell_type": "code",
   "execution_count": 66,
   "metadata": {},
   "outputs": [
    {
     "data": {
      "text/plain": [
       "570.525"
      ]
     },
     "execution_count": 66,
     "metadata": {},
     "output_type": "execute_result"
    }
   ],
   "source": [
    "N2 = (27.45 + 15+10.8 + 15+9.60 + 33.375+9.60+52.80 +64.8+26.25)+(8.52+13.86+41.92+13.86+36.55+40.48+83.16)+(0*7.23+0*1.5+0*.414+.3*6+.3*9+.3*66+0*116.50+0*2.28+.6*72)\n",
    "N2"
   ]
  }
 ],
 "metadata": {
  "kernelspec": {
   "display_name": "Python 3",
   "language": "python",
   "name": "python3"
  },
  "language_info": {
   "codemirror_mode": {
    "name": "ipython",
    "version": 3
   },
   "file_extension": ".py",
   "mimetype": "text/x-python",
   "name": "python",
   "nbconvert_exporter": "python",
   "pygments_lexer": "ipython3",
   "version": "3.6.9"
  }
 },
 "nbformat": 4,
 "nbformat_minor": 4
}
