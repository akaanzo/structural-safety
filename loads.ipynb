{
 "cells": [
  {
   "cell_type": "markdown",
   "metadata": {},
   "source": [
    "# Analysis of the loads acting on the building\n",
    "## *Matteo Franzoi* - Academic Year 2019/2020\n",
    "### matricola 166788 (triennale)\n",
    "---"
   ]
  },
  {
   "cell_type": "code",
   "execution_count": 7,
   "metadata": {},
   "outputs": [],
   "source": [
    "from engineering_notation import EngNumber\n",
    "import math\n",
    "import numpy as np\n",
    "from decimal import Decimal"
   ]
  },
  {
   "cell_type": "markdown",
   "metadata": {},
   "source": [
    "---\n",
    "#### Snow Load"
   ]
  },
  {
   "cell_type": "code",
   "execution_count": 8,
   "metadata": {},
   "outputs": [
    {
     "name": "stdout",
     "output_type": "stream",
     "text": [
      "3.0185626735901456 kN/m^2\n",
      "~=\n",
      "3.02 kN/m^2\n"
     ]
    }
   ],
   "source": [
    "qsk = 1.39*(1+(788/728)**2);\n",
    "print(qsk, 'kN/m^2\\n~=')\n",
    "qsk = EngNumber(qsk, precision=2)\n",
    "print(qsk, 'kN/m^2')"
   ]
  },
  {
   "cell_type": "code",
   "execution_count": 9,
   "metadata": {},
   "outputs": [],
   "source": [
    "#Copertura piana\n",
    "mu_1 = .8;\n",
    "#Non diversamente indicato\n",
    "C_E = 1;\n",
    "#Cautelativamente (no info)\n",
    "C_t = 1;"
   ]
  },
  {
   "cell_type": "code",
   "execution_count": 10,
   "metadata": {},
   "outputs": [
    {
     "name": "stdout",
     "output_type": "stream",
     "text": [
      "2.41 kN/m^2\n"
     ]
    }
   ],
   "source": [
    "def qs(qsk, mu, CE, Ct):\n",
    "    return qsk * mu * CE * Ct\n",
    "\n",
    "qs1 = qs(qsk, mu_1, C_E, C_t);\n",
    "qs1 = EngNumber(qs1, precision=2)\n",
    "print(qs1, 'kN/m^2')"
   ]
  },
  {
   "cell_type": "code",
   "execution_count": 11,
   "metadata": {},
   "outputs": [
    {
     "data": {
      "text/plain": [
       "3.87"
      ]
     },
     "execution_count": 11,
     "metadata": {},
     "output_type": "execute_result"
    }
   ],
   "source": [
    "mu_w = (18 + 6)/6.2\n",
    "mu_w < 4.11\n",
    "mu_w = EngNumber(mu_w, precision=2)\n",
    "mu_w"
   ]
  },
  {
   "cell_type": "code",
   "execution_count": 12,
   "metadata": {},
   "outputs": [
    {
     "data": {
      "text/plain": [
       "2.34"
      ]
     },
     "execution_count": 12,
     "metadata": {},
     "output_type": "execute_result"
    }
   ],
   "source": [
    "if 6 < 2*6.2:\n",
    "    mu_2 = (mu_1 + mu_w)/2\n",
    "else:\n",
    "    mu_2 = mu_1 + mu_w/2\n",
    "    \n",
    "mu_2 = EngNumber(mu_2)\n",
    "mu_2"
   ]
  },
  {
   "cell_type": "code",
   "execution_count": 13,
   "metadata": {},
   "outputs": [
    {
     "name": "stdout",
     "output_type": "stream",
     "text": [
      "7.06 kN/m^2\n"
     ]
    }
   ],
   "source": [
    "qs2 = qs(qsk, mu_2, C_E, C_t);\n",
    "\n",
    "qs2 = EngNumber(qs2, precision=2)\n",
    "\n",
    "print(qs2, 'kN/m^2')"
   ]
  },
  {
   "cell_type": "code",
   "execution_count": 14,
   "metadata": {},
   "outputs": [
    {
     "data": {
      "text/plain": [
       "7.06"
      ]
     },
     "execution_count": 14,
     "metadata": {},
     "output_type": "execute_result"
    }
   ],
   "source": [
    "qs = max(qs1, qs2)\n",
    "qs"
   ]
  },
  {
   "cell_type": "markdown",
   "metadata": {},
   "source": [
    "---\n",
    "#### Wind Load"
   ]
  },
  {
   "cell_type": "code",
   "execution_count": 15,
   "metadata": {},
   "outputs": [
    {
     "data": {
      "text/plain": [
       "390.625"
      ]
     },
     "execution_count": 15,
     "metadata": {},
     "output_type": "execute_result"
    }
   ],
   "source": [
    "q_cin = 1/2 * 1.25 * 25**2\n",
    "q_cin"
   ]
  },
  {
   "cell_type": "code",
   "execution_count": 16,
   "metadata": {},
   "outputs": [
    {
     "data": {
      "text/plain": [
       "1.76"
      ]
     },
     "execution_count": 16,
     "metadata": {},
     "output_type": "execute_result"
    }
   ],
   "source": [
    "def ce(z, kr, ct, zmin):\n",
    "    return kr**2 *ct*math.log(z/zmin)*(7+ct*math.log(z/zmin))\n",
    "    \n",
    "c_e = EngNumber(ce(9.7, .22, 1, .3), precision=2);\n",
    "c_e"
   ]
  },
  {
   "cell_type": "code",
   "execution_count": 17,
   "metadata": {},
   "outputs": [
    {
     "name": "stdout",
     "output_type": "stream",
     "text": [
      "0.138 kN/m^2\n"
     ]
    }
   ],
   "source": [
    "c_p=.2;\n",
    "c_d=1;\n",
    "\n",
    "p = q_cin * c_e*c_p*c_d;\n",
    "p = float(p/1000)\n",
    "p = round(p,3)\n",
    "print(p, 'kN/m^2')"
   ]
  },
  {
   "cell_type": "code",
   "execution_count": 51,
   "metadata": {},
   "outputs": [],
   "source": [
    "#-------------------\n",
    "# TRAVE P13 - P16\n",
    "\n",
    "# COMBO 1: NEVE PRINCIPALE\n",
    "Q11max_slu = 1.3*(8+11.52 + 3.75) + 1.5*(11.55+7.98 + 9.2) + 1.5*(25.42) + 1.5*.7*(7.5+14.4) + 1.5*.6*.5\n",
    "Q11min_slu = 1*(8+11.52 + 3.75) + .8*(11.55+7.98 + 9.2)\n",
    "\n",
    "# COMBO 1: CAT. B (TERRAZZO) PRINCIPALE\n",
    "Q12max_slu = 1.3*(8+11.52 + 3.75) + 1.5*(11.55+7.98 + 9.2) + 1.5*0.5*8.68 + 1.5*.7*(7.5) + 1.5*(14.4) + 1.5*.6*.3\n",
    "Q12min_slu = 1*(8+11.52 + 3.75) + .8*(11.55+7.98 + 9.2)\n",
    "\n",
    "# COMBO 1: CAT. B2 (INTERNO) PRINCIPALE\n",
    "Q13max_slu = 1.3*(8+11.52 + 3.75) + 1.5*(11.55+7.98 + 9.2) + 1.5*0.5*8.68 + 1.5*.7*14.4 + 1.5*7.5 + 1.5*.6*.3\n",
    "Q13min_slu = 1*(8+11.52 + 3.75) + .8*(11.55+7.98 + 9.2)\n",
    "\n",
    "#-------------------\n",
    "# TRAVE P16 - P17\n",
    "\n",
    "# COMBO 1: NEVE PRINCIPALE\n",
    "Q21max_slu = 1.3*(8+6.72 + 3.75) + 1.5*(11.55+4.65 + 9.2) + 1.5*(14.83) + 1.5*.7*(7.5+8.4) + 1.5*.6*.3\n",
    "Q21min_slu = 1*(8+6.72 + 3.75) + .8*(11.55+4.65 + 9.2)\n",
    "\n",
    "# COMBO 1: CAT. B (TERRAZZO) PRINCIPALE\n",
    "Q22max_slu = 1.3*(8+6.72 + 3.75) + 1.5*(11.55+4.65 + 9.2) + 1.5*.5*(5.06) + 1.5*.7*(7.5) + 1.5*(8.4) + 1.5*.6*.3\n",
    "Q22min_slu = 1*(8+6.72 + 3.75) + .8*(11.55+4.65 + 9.2)\n",
    "\n",
    "# COMBO 1: CAT. B2 (INTERNO) PRINCIPALE\n",
    "Q23max_slu = 1.3*(8+6.72 + 3.75) + 1.5*(11.55+4.65 + 9.2) + 1.5*.5*(5.06) + 1.5*(7.5) + 1.5*.7*(8.4) + 1.5*.6*.3\n",
    "Q23min_slu = 1*(8+6.72 + 3.75) + .8*(11.55+4.65 + 9.2)\n",
    "\n",
    "#-------------------\n",
    "# TRAVE P17 - VANO SCALA\n",
    "\n",
    "# COMBO 1: NEVE PRINCIPALE\n",
    "Q31max_slu = 1.3*(8+3.2 + 3.75) + 1.5*(11.55+2.215 + 9.2) + 1.5*(7.06) + 1.5*.7*(7.5+4) + 1.5*.6*.138\n",
    "Q31min_slu = 1*(8+3.2 + 3.75) + .8*(11.55+2.215 + 9.2)\n",
    "\n",
    "# COMBO 1: CAT. B (TERRAZZO) PRINCIPALE\n",
    "Q32max_slu = 1.3*(8+3.2 + 3.75) + 1.5*(11.55+2.215 + 9.2) + 1.5*.5*(2.41) + 1.5*.7*(7.5)+ 1.5*(4) + 1.5*.6*.138\n",
    "Q32min_slu = 1*(8+3.2 + 3.75) + .8*(11.55+2.215 + 9.2)\n",
    "\n",
    "# COMBO 1: CAT. B2 (INTERNO) PRINCIPALE\n",
    "Q33max_slu = 1.3*(8+3.2 + 3.75) + 1.5*(11.55+2.215 + 9.2) + 1.5*.5*(2.41) + 1.5*(7.5)+ 1.5*.7*(4) + 1.5*.6*.138\n",
    "Q33min_slu = 1*(8+3.2 + 3.75) + .8*(11.55+2.215 + 9.2)\n",
    "\n",
    "\n",
    "Q1max_slu = EngNumber(Q11max_slu, precision=2)\n",
    "Q1min_slu = EngNumber(Q11min_slu, precision=2)\n",
    "\n",
    "Q2max_slu = EngNumber(Q21max_slu, precision=2)\n",
    "Q2min_slu = EngNumber(Q21min_slu, precision=1)\n",
    "\n",
    "Q3max_slu = EngNumber(Q31max_slu, precision=2)\n",
    "Q3min_slu = EngNumber(Q31min_slu, precision=2)"
   ]
  },
  {
   "cell_type": "code",
   "execution_count": 53,
   "metadata": {},
   "outputs": [
    {
     "data": {
      "text/plain": [
       "134.921"
      ]
     },
     "execution_count": 53,
     "metadata": {},
     "output_type": "execute_result"
    }
   ],
   "source": [
    "Q11max_slu"
   ]
  },
  {
   "cell_type": "code",
   "execution_count": null,
   "metadata": {},
   "outputs": [],
   "source": []
  }
 ],
 "metadata": {
  "kernelspec": {
   "display_name": "Python 3",
   "language": "python",
   "name": "python3"
  },
  "language_info": {
   "codemirror_mode": {
    "name": "ipython",
    "version": 3
   },
   "file_extension": ".py",
   "mimetype": "text/x-python",
   "name": "python",
   "nbconvert_exporter": "python",
   "pygments_lexer": "ipython3",
   "version": "3.6.8"
  }
 },
 "nbformat": 4,
 "nbformat_minor": 4
}
