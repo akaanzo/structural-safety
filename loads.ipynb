{
 "cells": [
  {
   "cell_type": "markdown",
   "metadata": {},
   "source": [
    "# Analysis of the loads acting on the building\n",
    "## *Matteo Franzoi* - Academic Year 2019/2020\n",
    "### matricola 166788 (triennale)\n",
    "---"
   ]
  },
  {
   "cell_type": "code",
   "execution_count": 72,
   "metadata": {},
   "outputs": [],
   "source": [
    "from engineering_notation import EngNumber\n",
    "import math\n",
    "import numpy as np\n",
    "from decimal import Decimal"
   ]
  },
  {
   "cell_type": "markdown",
   "metadata": {},
   "source": [
    "---\n",
    "#### Snow Load"
   ]
  },
  {
   "cell_type": "code",
   "execution_count": 65,
   "metadata": {},
   "outputs": [
    {
     "name": "stdout",
     "output_type": "stream",
     "text": [
      "3.0185626735901456 kN/m^2\n",
      "~=\n",
      "3.02 kN/m^2\n"
     ]
    }
   ],
   "source": [
    "qsk = 1.39*(1+(788/728)**2);\n",
    "print(qsk, 'kN/m^2\\n~=')\n",
    "qsk = EngNumber(qsk, precision=2)\n",
    "print(qsk, 'kN/m^2')"
   ]
  },
  {
   "cell_type": "code",
   "execution_count": 66,
   "metadata": {},
   "outputs": [],
   "source": [
    "#Copertura piana\n",
    "mu_1 = .8;\n",
    "#Non diversamente indicato\n",
    "C_E = 1;\n",
    "#Cautelativamente (no info)\n",
    "C_t = 1;"
   ]
  },
  {
   "cell_type": "code",
   "execution_count": 68,
   "metadata": {},
   "outputs": [
    {
     "name": "stdout",
     "output_type": "stream",
     "text": [
      "2.41 kN/m^2\n"
     ]
    }
   ],
   "source": [
    "def qs(qsk, mu, CE, Ct):\n",
    "    return qsk * mu * CE * Ct\n",
    "\n",
    "qs1 = qs(qsk, mu_1, C_E, C_t);\n",
    "qs1 = EngNumber(qs1, precision=2)\n",
    "print(qs1, 'kN/m^2')"
   ]
  },
  {
   "cell_type": "code",
   "execution_count": 69,
   "metadata": {},
   "outputs": [
    {
     "data": {
      "text/plain": [
       "3.87"
      ]
     },
     "execution_count": 69,
     "metadata": {},
     "output_type": "execute_result"
    }
   ],
   "source": [
    "mu_w = (18 + 6)/6.2\n",
    "mu_w < 4.11\n",
    "mu_w = EngNumber(mu_w, precision=2)\n",
    "mu_w"
   ]
  },
  {
   "cell_type": "code",
   "execution_count": 70,
   "metadata": {},
   "outputs": [
    {
     "data": {
      "text/plain": [
       "2.34"
      ]
     },
     "execution_count": 70,
     "metadata": {},
     "output_type": "execute_result"
    }
   ],
   "source": [
    "if 6 < 2*6.2:\n",
    "    mu_2 = (mu_1 + mu_w)/2\n",
    "else:\n",
    "    mu_2 = mu_1 + mu_w/2\n",
    "    \n",
    "mu_2 = EngNumber(mu_2)\n",
    "mu_2"
   ]
  },
  {
   "cell_type": "code",
   "execution_count": 73,
   "metadata": {},
   "outputs": [
    {
     "name": "stdout",
     "output_type": "stream",
     "text": [
      "7.06 kN/m^2\n"
     ]
    }
   ],
   "source": [
    "qs2 = qs(qsk, mu_2, C_E, C_t);\n",
    "\n",
    "qs2 = EngNumber(qs2, precision=2)\n",
    "\n",
    "print(qs2, 'kN/m^2')"
   ]
  },
  {
   "cell_type": "code",
   "execution_count": 74,
   "metadata": {},
   "outputs": [
    {
     "data": {
      "text/plain": [
       "7.06"
      ]
     },
     "execution_count": 74,
     "metadata": {},
     "output_type": "execute_result"
    }
   ],
   "source": [
    "qs = max(qs1, qs2)\n",
    "qs"
   ]
  },
  {
   "cell_type": "markdown",
   "metadata": {},
   "source": [
    "---\n",
    "#### Wind Load"
   ]
  },
  {
   "cell_type": "code",
   "execution_count": 76,
   "metadata": {},
   "outputs": [
    {
     "data": {
      "text/plain": [
       "390.625"
      ]
     },
     "execution_count": 76,
     "metadata": {},
     "output_type": "execute_result"
    }
   ],
   "source": [
    "q_cin = 1/2 * 1.25 * 25**2\n",
    "q_cin"
   ]
  },
  {
   "cell_type": "code",
   "execution_count": 80,
   "metadata": {},
   "outputs": [
    {
     "data": {
      "text/plain": [
       "1.76"
      ]
     },
     "execution_count": 80,
     "metadata": {},
     "output_type": "execute_result"
    }
   ],
   "source": [
    "def ce(z, kr, ct, zmin):\n",
    "    return kr**2 *ct*math.log(z/zmin)*(7+ct*math.log(z/zmin))\n",
    "    \n",
    "c_e = EngNumber(ce(9.7, .22, 1, .3), precision=2);\n",
    "c_e"
   ]
  },
  {
   "cell_type": "code",
   "execution_count": 107,
   "metadata": {},
   "outputs": [
    {
     "name": "stdout",
     "output_type": "stream",
     "text": [
      "0.138 kN/m^2\n"
     ]
    }
   ],
   "source": [
    "c_p=.2;\n",
    "c_d=1;\n",
    "\n",
    "p = q_cin * c_e*c_p*c_d;\n",
    "p = float(p/1000)\n",
    "p = round(p,3)\n",
    "print(p, 'kN/m^2')"
   ]
  }
 ],
 "metadata": {
  "kernelspec": {
   "display_name": "Python 3",
   "language": "python",
   "name": "python3"
  },
  "language_info": {
   "codemirror_mode": {
    "name": "ipython",
    "version": 3
   },
   "file_extension": ".py",
   "mimetype": "text/x-python",
   "name": "python",
   "nbconvert_exporter": "python",
   "pygments_lexer": "ipython3",
   "version": "3.6.8"
  }
 },
 "nbformat": 4,
 "nbformat_minor": 4
}
